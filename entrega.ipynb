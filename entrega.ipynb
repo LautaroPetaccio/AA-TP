{
 "cells": [
  {
   "cell_type": "markdown",
   "metadata": {},
   "source": [
    "# Aprendizaje Automatico - TP 1"
   ]
  },
  {
   "cell_type": "code",
   "execution_count": 1,
   "metadata": {
    "collapsed": true
   },
   "outputs": [],
   "source": [
    "%matplotlib inline"
   ]
  },
  {
   "cell_type": "code",
   "execution_count": 2,
   "metadata": {
    "collapsed": false
   },
   "outputs": [],
   "source": [
    "import numpy as np\n",
    "import pandas as pd\n",
    "import matplotlib.pyplot as plt\n",
    "\n",
    "pd.options.display.float_format = '{:g}'.format\n",
    "plt.rcParams['figure.figsize'] = 14, 5\n",
    "\n",
    "from sklearn.metrics import accuracy_score, classification_report, confusion_matrix\n",
    "\n",
    "from scripts.util import *\n",
    "from scripts.builders import *"
   ]
  },
  {
   "cell_type": "markdown",
   "metadata": {},
   "source": [
    "## Atributos\n",
    "\n",
    "Definimos los siguientes atributos a ser extraidos de cada mail:\n",
    "1. Atributos simples:\n",
    "    - Longitud del asunto\n",
    "    - Cantidad de espacios en el asunto dividido por la longitud del asunto\n",
    "    - Cantidad de caracteres mayusculas en el asunto dividido por la longitud del asunto\n",
    "    - Longitud del cuerpo\n",
    "    - Cantidad de espacios en el cuerpo dividido por la longitud del cuerpo\n",
    "    - Cantidad de caracteres mayusculas en el cuerpo dividido por la longitud del cuerpo\n",
    "    - Cantidad de oraciones del cuerpo\n",
    "    - Tiene el mail contenido HTML?\n",
    "    - Tiene el mail imágenes?\n",
    "2. Atributos de vectorizacion del asunto: cantidad de apariciones por token dividido por la cantidad de documentos en los que aparece(TF-IDF)\n",
    "3. Atributos de vectorizacion del cuerpo: cantidad de apariciones por token dividido por la cantidad de documentos en los que aparece(TF-IDF)"
   ]
  },
  {
   "cell_type": "markdown",
   "metadata": {
    "collapsed": true
   },
   "source": [
    "## Reducción de dimensionalidad\n",
    "\n",
    "Probaremos usando tres técnicas de selección de atributos:\n",
    "    1. Elegir los 2 atributos que son mas probables(segun un test chi2) que sean dependientes de la etiqueta\n",
    "    2. Entrenar un clasificador SVM lineal con penalización L1(fuerza esparcidad, gran cantidad de pesos en 0), \n",
    "        y elegir los 2 atributos que mas importancia tengan\n",
    "    3. Analisis de Componentes Principales para reducción de dimensionalidad"
   ]
  },
  {
   "cell_type": "markdown",
   "metadata": {},
   "source": [
    "## Modelos\n",
    "\n",
    "Los algoritmos de aprendizaje para clasificación que utilizaremos son:\n",
    "\n",
    "### TODO: Completar con los clasificadores\n",
    "Explicar que corrimos todo con 10K samples a modo de prueba de sanidad y vimos que knn, svm y multinomial_nb no garpan, porque knn tiene un pico de memoria que no permite paralelizarlo, y por lo tanto la ejecucion del 10-Fold CV demora muchismo. SVM es paralelizable, pero también demora considerable cantidad de tiempo, y su performance es muy inferior a la de los métodos que dejamos. Multinomial no tarda, pero tambien tiene una performance muy inferior"
   ]
  },
  {
   "cell_type": "markdown",
   "metadata": {},
   "source": [
    "## Ejecución y puntuación de cada pipeline"
   ]
  },
  {
   "cell_type": "code",
   "execution_count": 3,
   "metadata": {
    "collapsed": false,
    "scrolled": true
   },
   "outputs": [
    {
     "name": "stdout",
     "output_type": "stream",
     "text": [
      "Loading Train Set\n",
      "Done in 0.930000s\n",
      "\n",
      "Loading Test Set\n",
      "Done in 0.222000s\n",
      "\n",
      "Train Set: 72000 samples - ham: 35997(0.50%) spam: 36003(0.50%)\n",
      "Test Set:  18000 samples - ham: 9003(0.50%) spam: 8997(0.50%)\n"
     ]
    }
   ],
   "source": [
    "train_set, test_set = load_processed_data()\n",
    "print ''\n",
    "print_sets_summarys(train_set, test_set)"
   ]
  },
  {
   "cell_type": "code",
   "execution_count": 4,
   "metadata": {
    "collapsed": false
   },
   "outputs": [],
   "source": [
    "pipeline_types = [None, 'tfidf', 'k_best', 'l1', 'pca']\n",
    "classifier_types = ['dt', 'random_forest', 'bernoulli_nb']\n",
    "pipelines = build_all_pipelines(pipeline_types, pipeline_types, classifier_types)"
   ]
  },
  {
   "cell_type": "code",
   "execution_count": 5,
   "metadata": {
    "collapsed": false,
    "scrolled": true
   },
   "outputs": [
    {
     "name": "stdout",
     "output_type": "stream",
     "text": [
      "Loading previous scores\n",
      "Done in 0.003000s\n",
      "Loading previous cv_times\n",
      "Done in 0.000000s\n",
      "\n",
      "Running 10-Fold CV for pipeline simple_features__dt(1/129)\n",
      "Done in 116.166000s\n",
      "CV scores mean: 0.925292 std: 0.001994\n",
      "\n",
      "Running 10-Fold CV for pipeline simple_features__random_forest(2/129)\n",
      "Done in 115.051000s\n",
      "CV scores mean: 0.948792 std: 0.002090\n",
      "\n",
      "Running 10-Fold CV for pipeline simple_features__bernoulli_nb(3/129)\n",
      "Done in 115.901000s\n",
      "CV scores mean: 0.830444 std: 0.004942\n",
      "\n",
      "Running 10-Fold CV for pipeline simple_features__body_tfidf__dt(4/129)\n",
      "Done in 252.677000s\n",
      "CV scores mean: 0.978820 std: 0.001844\n",
      "\n",
      "Running 10-Fold CV for pipeline simple_features__body_tfidf__random_forest(5/129)\n",
      "Done in 174.236000s\n",
      "CV scores mean: 0.985861 std: 0.000897\n",
      "\n",
      "Running 10-Fold CV for pipeline simple_features__body_tfidf__bernoulli_nb(6/129)\n",
      "Done in 151.599000s\n",
      "CV scores mean: 0.899514 std: 0.003163\n",
      "\n",
      "Running 10-Fold CV for pipeline simple_features__body_k_best__dt(7/129)\n",
      "Done in 156.476000s\n",
      "CV scores mean: 0.965889 std: 0.002663\n",
      "\n",
      "Running 10-Fold CV for pipeline simple_features__body_k_best__random_forest(8/129)\n",
      "Done in 157.083000s\n",
      "CV scores mean: 0.978431 std: 0.001463\n",
      "\n",
      "Running 10-Fold CV for pipeline simple_features__body_k_best__bernoulli_nb(9/129)\n",
      "Done in 151.922000s\n",
      "CV scores mean: 0.841194 std: 0.003794\n",
      "\n",
      "Running 10-Fold CV for pipeline simple_features__body_l1__dt(10/129)\n",
      "Done in 227.093000s\n",
      "CV scores mean: 0.979042 std: 0.001205\n",
      "\n",
      "Running 10-Fold CV for pipeline simple_features__body_l1__random_forest(11/129)\n",
      "Done in 179.901000s\n",
      "CV scores mean: 0.986722 std: 0.001584\n",
      "\n",
      "Running 10-Fold CV for pipeline simple_features__body_l1__bernoulli_nb(12/129)\n",
      "Done in 164.063000s\n",
      "CV scores mean: 0.905972 std: 0.004113\n",
      "\n",
      "Running 10-Fold CV for pipeline simple_features__body_pca__dt(13/129)\n",
      "Done in 178.738000s\n",
      "CV scores mean: 0.973403 std: 0.002295\n",
      "\n",
      "Running 10-Fold CV for pipeline simple_features__body_pca__random_forest(14/129)\n",
      "Done in 176.349000s\n",
      "CV scores mean: 0.984500 std: 0.001275\n",
      "\n",
      "Running 10-Fold CV for pipeline simple_features__subject_tfidf__dt(15/129)\n",
      "Done in 124.396000s\n",
      "CV scores mean: 0.944556 std: 0.001666\n",
      "\n",
      "Running 10-Fold CV for pipeline simple_features__subject_tfidf__random_forest(16/129)\n",
      "Done in 123.626000s\n",
      "CV scores mean: 0.963181 std: 0.002348\n",
      "\n",
      "Running 10-Fold CV for pipeline simple_features__subject_tfidf__bernoulli_nb(17/129)\n",
      "Done in 116.199000s\n",
      "CV scores mean: 0.893320 std: 0.004248\n",
      "\n",
      "Running 10-Fold CV for pipeline simple_features__subject_tfidf__body_tfidf__dt(18/129)\n",
      "Done in 252.455000s\n",
      "CV scores mean: 0.979417 std: 0.001322\n",
      "\n",
      "Running 10-Fold CV for pipeline simple_features__subject_tfidf__body_tfidf__random_forest(19/129)\n",
      "Done in 175.908000s\n",
      "CV scores mean: 0.985528 std: 0.001250\n",
      "\n",
      "Running 10-Fold CV for pipeline simple_features__subject_tfidf__body_tfidf__bernoulli_nb(20/129)\n",
      "Done in 157.766000s\n",
      "CV scores mean: 0.916320 std: 0.002847\n",
      "\n",
      "Running 10-Fold CV for pipeline simple_features__subject_tfidf__body_k_best__dt(21/129)\n",
      "Done in 166.313000s\n",
      "CV scores mean: 0.970944 std: 0.001327\n",
      "\n",
      "Running 10-Fold CV for pipeline simple_features__subject_tfidf__body_k_best__random_forest(22/129)\n",
      "Done in 163.234000s\n",
      "CV scores mean: 0.980917 std: 0.001219\n",
      "\n",
      "Running 10-Fold CV for pipeline simple_features__subject_tfidf__body_k_best__bernoulli_nb(23/129)\n",
      "Done in 153.632000s\n",
      "CV scores mean: 0.894764 std: 0.002736\n",
      "\n",
      "Running 10-Fold CV for pipeline simple_features__subject_tfidf__body_l1__dt(24/129)\n",
      "Done in 231.026000s\n",
      "CV scores mean: 0.979861 std: 0.001464\n",
      "\n",
      "Running 10-Fold CV for pipeline simple_features__subject_tfidf__body_l1__random_forest(25/129)\n",
      "Done in 182.346000s\n",
      "CV scores mean: 0.986986 std: 0.001326\n",
      "\n",
      "Running 10-Fold CV for pipeline simple_features__subject_tfidf__body_l1__bernoulli_nb(26/129)\n",
      "Done in 169.205000s\n",
      "CV scores mean: 0.928306 std: 0.003399\n",
      "\n",
      "Running 10-Fold CV for pipeline simple_features__subject_tfidf__body_pca__dt(27/129)\n",
      "Done in 208.027000s\n",
      "CV scores mean: 0.975819 std: 0.001210\n",
      "\n",
      "Running 10-Fold CV for pipeline simple_features__subject_tfidf__body_pca__random_forest(28/129)\n",
      "Done in 183.424000s\n",
      "CV scores mean: 0.982139 std: 0.001278\n",
      "\n",
      "Running 10-Fold CV for pipeline simple_features__subject_k_best__dt(29/129)\n",
      "Done in 119.979000s\n",
      "CV scores mean: 0.931181 std: 0.002975\n",
      "\n",
      "Running 10-Fold CV for pipeline simple_features__subject_k_best__random_forest(30/129)\n",
      "Done in 122.891000s\n",
      "CV scores mean: 0.952069 std: 0.002851\n",
      "\n",
      "Running 10-Fold CV for pipeline simple_features__subject_k_best__bernoulli_nb(31/129)\n",
      "Done in 115.951000s\n",
      "CV scores mean: 0.852333 std: 0.003308\n",
      "\n",
      "Running 10-Fold CV for pipeline simple_features__subject_k_best__body_tfidf__dt(32/129)\n",
      "Done in 254.239000s\n",
      "CV scores mean: 0.979319 std: 0.001619\n",
      "\n",
      "Running 10-Fold CV for pipeline simple_features__subject_k_best__body_tfidf__random_forest(33/129)\n",
      "Done in 177.105000s\n",
      "CV scores mean: 0.985639 std: 0.001263\n",
      "\n",
      "Running 10-Fold CV for pipeline simple_features__subject_k_best__body_tfidf__bernoulli_nb(34/129)\n",
      "Done in 155.673000s\n",
      "CV scores mean: 0.900611 std: 0.003258\n",
      "\n",
      "Running 10-Fold CV for pipeline simple_features__subject_k_best__body_k_best__dt(35/129)\n",
      "Done in 161.688000s\n",
      "CV scores mean: 0.966680 std: 0.001957\n",
      "\n",
      "Running 10-Fold CV for pipeline simple_features__subject_k_best__body_k_best__random_forest(36/129)\n",
      "Done in 161.642000s\n",
      "CV scores mean: 0.979028 std: 0.001266\n",
      "\n",
      "Running 10-Fold CV for pipeline simple_features__subject_k_best__body_k_best__bernoulli_nb(37/129)\n",
      "Done in 154.578000s\n",
      "CV scores mean: 0.850056 std: 0.003099\n",
      "\n",
      "Running 10-Fold CV for pipeline simple_features__subject_k_best__body_l1__dt(38/129)\n",
      "Done in 230.014000s\n",
      "CV scores mean: 0.979680 std: 0.001072\n",
      "\n",
      "Running 10-Fold CV for pipeline simple_features__subject_k_best__body_l1__random_forest(39/129)\n",
      "Done in 184.143000s\n",
      "CV scores mean: 0.986625 std: 0.001441\n",
      "\n",
      "Running 10-Fold CV for pipeline simple_features__subject_k_best__body_l1__bernoulli_nb(40/129)\n",
      "Done in 168.726000s\n",
      "CV scores mean: 0.909556 std: 0.003816\n",
      "\n",
      "Running 10-Fold CV for pipeline simple_features__subject_k_best__body_pca__dt(41/129)\n",
      "Done in 194.037000s\n",
      "CV scores mean: 0.973639 std: 0.002011\n",
      "\n",
      "Running 10-Fold CV for pipeline simple_features__subject_k_best__body_pca__random_forest(42/129)\n",
      "Done in 190.369000s\n",
      "CV scores mean: 0.984556 std: 0.001040\n",
      "\n",
      "Running 10-Fold CV for pipeline simple_features__subject_l1__dt(43/129)\n",
      "Done in 131.031000s\n",
      "CV scores mean: 0.953306 std: 0.002030\n",
      "\n",
      "Running 10-Fold CV for pipeline simple_features__subject_l1__random_forest(44/129)\n",
      "Done in 127.168000s\n",
      "CV scores mean: 0.966306 std: 0.001903\n",
      "\n",
      "Running 10-Fold CV for pipeline simple_features__subject_l1__bernoulli_nb(45/129)\n",
      "Done in 117.830000s\n",
      "CV scores mean: 0.929292 std: 0.003304\n",
      "\n",
      "Running 10-Fold CV for pipeline simple_features__subject_l1__body_tfidf__dt(46/129)\n",
      "Done in 255.609000s\n",
      "CV scores mean: 0.979417 std: 0.001470\n",
      "\n",
      "Running 10-Fold CV for pipeline simple_features__subject_l1__body_tfidf__random_forest(47/129)\n",
      "Done in 176.778000s\n",
      "CV scores mean: 0.985500 std: 0.001858\n",
      "\n",
      "Running 10-Fold CV for pipeline simple_features__subject_l1__body_tfidf__bernoulli_nb(48/129)\n",
      "Done in 156.144000s\n",
      "CV scores mean: 0.922070 std: 0.003056\n",
      "\n",
      "Running 10-Fold CV for pipeline simple_features__subject_l1__body_k_best__dt(49/129)\n",
      "Done in 175.891000s\n",
      "CV scores mean: 0.973028 std: 0.001438\n",
      "\n",
      "Running 10-Fold CV for pipeline simple_features__subject_l1__body_k_best__random_forest(50/129)\n",
      "Done in 166.396000s\n",
      "CV scores mean: 0.981417 std: 0.001663\n",
      "\n",
      "Running 10-Fold CV for pipeline simple_features__subject_l1__body_k_best__bernoulli_nb(51/129)\n",
      "Done in 157.018000s\n",
      "CV scores mean: 0.925861 std: 0.002221\n",
      "\n",
      "Running 10-Fold CV for pipeline simple_features__subject_l1__body_l1__dt(52/129)\n",
      "Done in 233.910000s\n",
      "CV scores mean: 0.979722 std: 0.001109\n",
      "\n",
      "Running 10-Fold CV for pipeline simple_features__subject_l1__body_l1__random_forest(53/129)\n",
      "Done in 185.497000s\n",
      "CV scores mean: 0.986403 std: 0.001678\n",
      "\n",
      "Running 10-Fold CV for pipeline simple_features__subject_l1__body_l1__bernoulli_nb(54/129)\n",
      "Done in 170.246000s\n",
      "CV scores mean: 0.937778 std: 0.002953\n",
      "\n",
      "Running 10-Fold CV for pipeline simple_features__subject_l1__body_pca__dt(55/129)\n",
      "Done in 225.289000s\n",
      "CV scores mean: 0.977056 std: 0.001769\n",
      "\n",
      "Running 10-Fold CV for pipeline simple_features__subject_l1__body_pca__random_forest(56/129)\n",
      "Done in 187.942000s\n",
      "CV scores mean: 0.980722 std: 0.001937\n",
      "\n",
      "Running 10-Fold CV for pipeline simple_features__subject_pca__dt(57/129)\n",
      "Done in 122.175000s\n",
      "CV scores mean: 0.927250 std: 0.004666\n",
      "\n",
      "Running 10-Fold CV for pipeline simple_features__subject_pca__random_forest(58/129)\n",
      "Done in 125.145000s\n",
      "CV scores mean: 0.946972 std: 0.002144\n",
      "\n",
      "Running 10-Fold CV for pipeline simple_features__subject_pca__body_tfidf__dt(59/129)\n",
      "Done in 278.595000s\n",
      "CV scores mean: 0.976500 std: 0.002269\n",
      "\n",
      "Running 10-Fold CV for pipeline simple_features__subject_pca__body_tfidf__random_forest(60/129)\n",
      "Done in 180.679000s\n",
      "CV scores mean: 0.982083 std: 0.001548\n",
      "\n",
      "Running 10-Fold CV for pipeline simple_features__subject_pca__body_k_best__dt(61/129)\n",
      "Done in 171.497000s\n",
      "CV scores mean: 0.958792 std: 0.003179\n",
      "\n",
      "Running 10-Fold CV for pipeline simple_features__subject_pca__body_k_best__random_forest(62/129)\n",
      "Done in 170.331000s\n",
      "CV scores mean: 0.971111 std: 0.002258\n",
      "\n",
      "Running 10-Fold CV for pipeline simple_features__subject_pca__body_l1__dt(63/129)\n",
      "Done in 253.541000s\n",
      "CV scores mean: 0.977208 std: 0.002551\n",
      "\n",
      "Running 10-Fold CV for pipeline simple_features__subject_pca__body_l1__random_forest(64/129)\n",
      "Done in 185.904000s\n",
      "CV scores mean: 0.980889 std: 0.000682\n",
      "\n",
      "Running 10-Fold CV for pipeline simple_features__subject_pca__body_pca__dt(65/129)\n",
      "Done in 189.894000s\n",
      "CV scores mean: 0.972375 std: 0.001559\n",
      "\n",
      "Running 10-Fold CV for pipeline simple_features__subject_pca__body_pca__random_forest(66/129)\n",
      "Done in 181.556000s\n",
      "CV scores mean: 0.984208 std: 0.001136\n",
      "\n",
      "Running 10-Fold CV for pipeline body_tfidf__dt(67/129)\n",
      "Done in 120.585000s\n",
      "CV scores mean: 0.946403 std: 0.001344\n",
      "\n",
      "Running 10-Fold CV for pipeline body_tfidf__random_forest(68/129)\n",
      "Done in 64.751000s\n",
      "CV scores mean: 0.960625 std: 0.002116\n",
      "\n",
      "Running 10-Fold CV for pipeline body_tfidf__bernoulli_nb(69/129)\n",
      "Done in 42.971000s\n",
      "CV scores mean: 0.892264 std: 0.003387\n",
      "\n",
      "Running 10-Fold CV for pipeline body_k_best__dt(70/129)\n",
      "Done in 45.819000s\n",
      "CV scores mean: 0.895611 std: 0.002500\n",
      "\n",
      "Running 10-Fold CV for pipeline body_k_best__random_forest(71/129)\n",
      "Done in 48.853000s\n",
      "CV scores mean: 0.904736 std: 0.002518\n",
      "\n",
      "Running 10-Fold CV for pipeline body_k_best__bernoulli_nb(72/129)\n",
      "Done in 44.232000s\n",
      "CV scores mean: 0.811320 std: 0.005134\n",
      "\n",
      "Running 10-Fold CV for pipeline body_l1__dt(73/129)\n",
      "Done in 104.055000s\n",
      "CV scores mean: 0.949903 std: 0.001261\n",
      "\n",
      "Running 10-Fold CV for pipeline body_l1__random_forest(74/129)\n",
      "Done in 72.858000s\n",
      "CV scores mean: 0.962097 std: 0.002182\n",
      "\n",
      "Running 10-Fold CV for pipeline body_l1__bernoulli_nb(75/129)\n",
      "Done in 58.098000s\n",
      "CV scores mean: 0.896806 std: 0.004589\n",
      "\n",
      "Running 10-Fold CV for pipeline body_pca__dt(76/129)\n",
      "Done in 71.470000s\n",
      "CV scores mean: 0.938139 std: 0.001779\n",
      "\n",
      "Running 10-Fold CV for pipeline body_pca__random_forest(77/129)\n",
      "Done in 69.637000s\n",
      "CV scores mean: 0.958819 std: 0.001662\n",
      "\n",
      "Running 10-Fold CV for pipeline subject_tfidf__dt(78/129)\n",
      "Done in 10.545000s\n",
      "CV scores mean: 0.843500 std: 0.003834\n",
      "\n",
      "Running 10-Fold CV for pipeline subject_tfidf__random_forest(79/129)\n",
      "Done in 14.106000s\n",
      "CV scores mean: 0.844834 std: 0.003517\n",
      "\n",
      "Running 10-Fold CV for pipeline subject_tfidf__bernoulli_nb(80/129)\n",
      "Done in 8.851000s\n",
      "CV scores mean: 0.818139 std: 0.003967\n",
      "\n",
      "Running 10-Fold CV for pipeline subject_tfidf__body_tfidf__dt(81/129)\n",
      "Done in 158.841000s\n",
      "CV scores mean: 0.957681 std: 0.002065\n",
      "\n",
      "Running 10-Fold CV for pipeline subject_tfidf__body_tfidf__random_forest(82/129)\n",
      "Done in 72.494000s\n",
      "CV scores mean: 0.971820 std: 0.001955\n",
      "\n",
      "Running 10-Fold CV for pipeline subject_tfidf__body_tfidf__bernoulli_nb(83/129)\n",
      "Done in 48.322000s\n",
      "CV scores mean: 0.911903 std: 0.002917\n",
      "\n",
      "Running 10-Fold CV for pipeline subject_tfidf__body_k_best__dt(84/129)\n",
      "Done in 54.934000s\n",
      "CV scores mean: 0.931625 std: 0.002950\n",
      "\n",
      "Running 10-Fold CV for pipeline subject_tfidf__body_k_best__random_forest(85/129)\n",
      "Done in 54.778000s\n",
      "CV scores mean: 0.941736 std: 0.003147\n",
      "\n",
      "Running 10-Fold CV for pipeline subject_tfidf__body_k_best__bernoulli_nb(86/129)\n",
      "Done in 47.777000s\n",
      "CV scores mean: 0.877736 std: 0.002471\n",
      "\n",
      "Running 10-Fold CV for pipeline subject_tfidf__body_l1__dt(87/129)\n",
      "Done in 126.723000s\n",
      "CV scores mean: 0.958458 std: 0.002444\n",
      "\n",
      "Running 10-Fold CV for pipeline subject_tfidf__body_l1__random_forest(88/129)\n",
      "Done in 77.565000s\n",
      "CV scores mean: 0.972431 std: 0.001880\n",
      "\n",
      "Running 10-Fold CV for pipeline subject_tfidf__body_l1__bernoulli_nb(89/129)\n",
      "Done in 61.165000s\n",
      "CV scores mean: 0.920972 std: 0.004146\n",
      "\n",
      "Running 10-Fold CV for pipeline subject_tfidf__body_pca__dt(90/129)\n",
      "Done in 110.696000s\n",
      "CV scores mean: 0.953180 std: 0.002603\n",
      "\n",
      "Running 10-Fold CV for pipeline subject_tfidf__body_pca__random_forest(91/129)\n",
      "Done in 78.524000s\n",
      "CV scores mean: 0.968764 std: 0.001631\n",
      "\n",
      "Running 10-Fold CV for pipeline subject_k_best__dt(92/129)\n",
      "Done in 9.172000s\n",
      "CV scores mean: 0.643834 std: 0.004873\n",
      "\n",
      "Running 10-Fold CV for pipeline subject_k_best__random_forest(93/129)\n",
      "Done in 9.377000s\n",
      "CV scores mean: 0.644375 std: 0.004713\n",
      "\n",
      "Running 10-Fold CV for pipeline subject_k_best__bernoulli_nb(94/129)\n",
      "Done in 9.371000s\n",
      "CV scores mean: 0.643070 std: 0.005155\n",
      "\n",
      "Running 10-Fold CV for pipeline subject_k_best__body_tfidf__dt(95/129)\n",
      "Done in 126.632000s\n",
      "CV scores mean: 0.951042 std: 0.001618\n",
      "\n",
      "Running 10-Fold CV for pipeline subject_k_best__body_tfidf__random_forest(96/129)\n",
      "Done in 69.965000s\n",
      "CV scores mean: 0.965056 std: 0.001067\n",
      "\n",
      "Running 10-Fold CV for pipeline subject_k_best__body_tfidf__bernoulli_nb(97/129)\n",
      "Done in 47.495000s\n",
      "CV scores mean: 0.893389 std: 0.003567\n",
      "\n",
      "Running 10-Fold CV for pipeline subject_k_best__body_k_best__dt(98/129)\n",
      "Done in 49.338000s\n",
      "CV scores mean: 0.904778 std: 0.002886\n",
      "\n",
      "Running 10-Fold CV for pipeline subject_k_best__body_k_best__random_forest(99/129)\n",
      "Done in 52.408000s\n",
      "CV scores mean: 0.913500 std: 0.003646\n",
      "\n",
      "Running 10-Fold CV for pipeline subject_k_best__body_k_best__bernoulli_nb(100/129)\n",
      "Done in 47.512000s\n",
      "CV scores mean: 0.822944 std: 0.004594\n",
      "\n",
      "Running 10-Fold CV for pipeline subject_k_best__body_l1__dt(101/129)\n",
      "Done in 106.005000s\n",
      "CV scores mean: 0.953292 std: 0.001942\n",
      "\n",
      "Running 10-Fold CV for pipeline subject_k_best__body_l1__random_forest(102/129)\n",
      "Done in 74.658000s\n",
      "CV scores mean: 0.966736 std: 0.001969\n",
      "\n",
      "Running 10-Fold CV for pipeline subject_k_best__body_l1__bernoulli_nb(103/129)\n",
      "Done in 60.380000s\n",
      "CV scores mean: 0.900722 std: 0.004645\n",
      "\n",
      "Running 10-Fold CV for pipeline subject_k_best__body_pca__dt(104/129)\n",
      "Done in 87.781000s\n",
      "CV scores mean: 0.942903 std: 0.002816\n",
      "\n",
      "Running 10-Fold CV for pipeline subject_k_best__body_pca__random_forest(105/129)\n",
      "Done in 85.634000s\n",
      "CV scores mean: 0.962222 std: 0.001960\n",
      "\n",
      "Running 10-Fold CV for pipeline subject_l1__dt(106/129)\n",
      "Done in 21.501000s\n",
      "CV scores mean: 0.900820 std: 0.002832\n",
      "\n",
      "Running 10-Fold CV for pipeline subject_l1__random_forest(107/129)\n",
      "Done in 22.319000s\n",
      "CV scores mean: 0.904306 std: 0.003469\n",
      "\n",
      "Running 10-Fold CV for pipeline subject_l1__bernoulli_nb(108/129)\n",
      "Done in 9.836000s\n",
      "CV scores mean: 0.890570 std: 0.003117\n",
      "\n",
      "Running 10-Fold CV for pipeline subject_l1__body_tfidf__dt(109/129)\n",
      "Done in 169.340000s\n",
      "CV scores mean: 0.957820 std: 0.001672\n",
      "\n",
      "Running 10-Fold CV for pipeline subject_l1__body_tfidf__random_forest(110/129)\n",
      "Done in 72.137000s\n",
      "CV scores mean: 0.972583 std: 0.001959\n",
      "\n",
      "Running 10-Fold CV for pipeline subject_l1__body_tfidf__bernoulli_nb(111/129)\n",
      "Done in 49.306000s\n",
      "CV scores mean: 0.918125 std: 0.003287\n",
      "\n",
      "Running 10-Fold CV for pipeline subject_l1__body_k_best__dt(112/129)\n",
      "Done in 63.178000s\n",
      "CV scores mean: 0.941070 std: 0.002293\n",
      "\n",
      "Running 10-Fold CV for pipeline subject_l1__body_k_best__random_forest(113/129)\n",
      "Done in 58.279000s\n",
      "CV scores mean: 0.949014 std: 0.002259\n",
      "\n",
      "Running 10-Fold CV for pipeline subject_l1__body_k_best__bernoulli_nb(114/129)\n",
      "Done in 49.263000s\n",
      "CV scores mean: 0.912695 std: 0.001555\n",
      "\n",
      "Running 10-Fold CV for pipeline subject_l1__body_l1__dt(115/129)\n",
      "Done in 136.154000s\n",
      "CV scores mean: 0.960125 std: 0.002589\n",
      "\n",
      "Running 10-Fold CV for pipeline subject_l1__body_l1__random_forest(116/129)\n",
      "Done in 77.349000s\n",
      "CV scores mean: 0.973597 std: 0.001742\n",
      "\n",
      "Running 10-Fold CV for pipeline subject_l1__body_l1__bernoulli_nb(117/129)\n",
      "Done in 63.469000s\n",
      "CV scores mean: 0.931278 std: 0.003471\n",
      "\n",
      "Running 10-Fold CV for pipeline subject_l1__body_pca__dt(118/129)\n",
      "Done in 124.431000s\n",
      "CV scores mean: 0.956042 std: 0.002284\n",
      "\n",
      "Running 10-Fold CV for pipeline subject_l1__body_pca__random_forest(119/129)\n",
      "Done in 77.467000s\n",
      "CV scores mean: 0.968445 std: 0.001881\n",
      "\n",
      "Running 10-Fold CV for pipeline subject_pca__dt(120/129)\n",
      "Done in 12.526000s\n",
      "CV scores mean: 0.809430 std: 0.004894\n",
      "\n",
      "Running 10-Fold CV for pipeline subject_pca__random_forest(121/129)\n",
      "Done in 13.359000s\n",
      "CV scores mean: 0.855264 std: 0.005462\n",
      "\n",
      "Running 10-Fold CV for pipeline subject_pca__body_tfidf__dt(122/129)\n",
      "Done in 177.688000s\n",
      "CV scores mean: 0.934389 std: 0.003426\n",
      "\n",
      "Running 10-Fold CV for pipeline subject_pca__body_tfidf__random_forest(123/129)\n",
      "Done in 76.736000s\n",
      "CV scores mean: 0.964486 std: 0.001716\n",
      "\n",
      "Running 10-Fold CV for pipeline subject_pca__body_k_best__dt(124/129)\n",
      "Done in 63.328000s\n",
      "CV scores mean: 0.896597 std: 0.004654\n",
      "\n",
      "Running 10-Fold CV for pipeline subject_pca__body_k_best__random_forest(125/129)\n",
      "Done in 64.935000s\n",
      "CV scores mean: 0.929070 std: 0.002569\n",
      "\n",
      "Running 10-Fold CV for pipeline subject_pca__body_l1__dt(126/129)\n",
      "Done in 141.338000s\n",
      "CV scores mean: 0.935931 std: 0.003625\n",
      "\n",
      "Running 10-Fold CV for pipeline subject_pca__body_l1__random_forest(127/129)\n",
      "Done in 83.904000s\n",
      "CV scores mean: 0.965014 std: 0.002260\n",
      "\n",
      "Running 10-Fold CV for pipeline subject_pca__body_pca__dt(128/129)\n",
      "Done in 81.695000s\n",
      "CV scores mean: 0.946667 std: 0.002436\n",
      "\n",
      "Running 10-Fold CV for pipeline subject_pca__body_pca__random_forest(129/129)\n",
      "Done in 76.205000s\n",
      "CV scores mean: 0.969181 std: 0.001047\n",
      "\n"
     ]
    }
   ],
   "source": [
    "scores, cv_times = evaluate_and_meassure(train_set, pipelines, 'full', cv=10, n_jobs=5)"
   ]
  },
  {
   "cell_type": "markdown",
   "metadata": {},
   "source": [
    "### TODO: Visualizaciones (usando DataFrame?) de los resultados, tanto puntajes de CV como runtimes"
   ]
  },
  {
   "cell_type": "code",
   "execution_count": 11,
   "metadata": {
    "collapsed": false,
    "scrolled": true
   },
   "outputs": [],
   "source": [
    "def build_summary_dataframe(pipelines, scores, cv_times):\n",
    "    names = [name for name, _, _ in pipelines]\n",
    "\n",
    "    df = pd.DataFrame(index=names, columns=['mean_cv_score', 'runtime'])\n",
    "\n",
    "    df.mean_cv_score = [np.mean(scores[name]) for name in names]\n",
    "    df.runtime = [cv_times[name] for name in names]\n",
    "\n",
    "    df['simple_features'] = [configuration['simple_features'] for _, configuration, _ in pipelines]\n",
    "    df['subject_pipeline'] = [configuration['subject_pipeline_type'] for _, configuration, _ in pipelines]\n",
    "    df['body_pipeline'] = [configuration['body_pipeline_type'] for _, configuration, _ in pipelines]\n",
    "    df['classifier'] = [configuration['classifier_type'] for _, configuration, _ in pipelines]\n",
    "\n",
    "    return df"
   ]
  },
  {
   "cell_type": "code",
   "execution_count": 13,
   "metadata": {
    "collapsed": false,
    "scrolled": true
   },
   "outputs": [],
   "source": [
    "summary_df = build_summary_dataframe(pipelines, scores, cv_times)"
   ]
  },
  {
   "cell_type": "code",
   "execution_count": 44,
   "metadata": {
    "collapsed": false,
    "scrolled": false
   },
   "outputs": [
    {
     "data": {
      "text/plain": [
       "<matplotlib.axes._subplots.AxesSubplot at 0x1c3befd0>"
      ]
     },
     "execution_count": 44,
     "metadata": {},
     "output_type": "execute_result"
    },
    {
     "data": {
      "image/png": "[encoded data removed]",
      "text/plain": [
       "<matplotlib.figure.Figure at 0x1cd0c160>"
      ]
     },
     "metadata": {},
     "output_type": "display_data"
    },
    {
     "data": {
      "image/png": "[encoded data removed]",
      "text/plain": [
       "<matplotlib.figure.Figure at 0x1cd0c3c8>"
      ]
     },
     "metadata": {},
     "output_type": "display_data"
    }
   ],
   "source": [
    "summary_df.boxplot(column=['mean_cv_score'], by='classifier', vert=False)\n",
    "summary_df.boxplot(column=['runtime'], by='classifier', vert=False)"
   ]
  },
  {
   "cell_type": "markdown",
   "metadata": {},
   "source": [
    "## Evaluacion del mejor pipeline en el set de test\n",
    "\n",
    "Por último vamos a reportar el desempeño del mejor pipeline elegido con CV, en un set de datos limpio.\n",
    "### TODO: elegir el mejor modelo de todos los que corrimos"
   ]
  },
  {
   "cell_type": "code",
   "execution_count": 6,
   "metadata": {
    "collapsed": false
   },
   "outputs": [
    {
     "data": {
      "text/plain": [
       "('simple_features__subject_tfidf__body_l1__random_forest', 0.98698605694497932)"
      ]
     },
     "execution_count": 6,
     "metadata": {},
     "output_type": "execute_result"
    }
   ],
   "source": [
    "mean_scores_list = [(name, np.mean(model_scores)) for name, model_scores in scores.iteritems()]\n",
    "mean_scores_list[np.argmax(map(lambda x: x[1], mean_scores_list))]"
   ]
  },
  {
   "cell_type": "code",
   "execution_count": 7,
   "metadata": {
    "collapsed": false
   },
   "outputs": [],
   "source": [
    "best_model_name, best_model = build_pipeline(True, 'tfidf', 'l1', 'random_forest')"
   ]
  },
  {
   "cell_type": "code",
   "execution_count": 8,
   "metadata": {
    "collapsed": false
   },
   "outputs": [],
   "source": [
    "def model_evaluation(pipeline, name, X_train, X_test):\n",
    "    print 'Training pipeline %s in the train set' % name\n",
    "    print_time(lambda: pipeline.fit(X_train, X_train.label))\n",
    "    print ''\n",
    "    \n",
    "    print 'Classifying test set with pipeline %s' % name\n",
    "    pred = print_time(lambda: pipeline.predict(X_test))\n",
    "    print ''\n",
    "\n",
    "    print 'Accuracy: %f' % accuracy_score(X_test.label, pred)\n",
    "    print ''\n",
    "    \n",
    "    print 'Classification report:'\n",
    "    print classification_report(X_test.label, pred, target_names=['ham', 'spam'])\n",
    "    print 'Confusion matrix:'\n",
    "    print pd.crosstab(X_test.label, pred, rownames=['True'], colnames=['Predicted'], margins=True)"
   ]
  },
  {
   "cell_type": "code",
   "execution_count": 9,
   "metadata": {
    "collapsed": false,
    "scrolled": true
   },
   "outputs": [
    {
     "name": "stdout",
     "output_type": "stream",
     "text": [
      "Training pipeline simple_features__subject_tfidf__body_l1__random_forest in the train set\n",
      "Done in 69.160000s\n",
      "\n",
      "Classifying test set with pipeline simple_features__subject_tfidf__body_l1__random_forest\n",
      "Done in 14.479000s\n",
      "\n",
      "Accuracy: 0.987222\n",
      "\n",
      "Classification report:\n",
      "             precision    recall  f1-score   support\n",
      "\n",
      "        ham       0.98      0.99      0.99      9003\n",
      "       spam       0.99      0.98      0.99      8997\n",
      "\n",
      "avg / total       0.99      0.99      0.99     18000\n",
      "\n",
      "Confusion matrix:\n",
      "Predicted   ham  spam    All\n",
      "True                        \n",
      "ham        8915    88   9003\n",
      "spam        142  8855   8997\n",
      "All        9057  8943  18000\n"
     ]
    }
   ],
   "source": [
    "model_evaluation(best_model, best_model_name, train_set, test_set)"
   ]
  },
  {
   "cell_type": "markdown",
   "metadata": {},
   "source": [
    "Guardamos este modelo para utilizarlo posteriormente en un programa separado"
   ]
  },
  {
   "cell_type": "code",
   "execution_count": 10,
   "metadata": {
    "collapsed": false,
    "scrolled": true
   },
   "outputs": [
    {
     "name": "stdout",
     "output_type": "stream",
     "text": [
      "Training pipeline simple_features__subject_tfidf__body_l1__random_forest in the full dataset\n",
      "Done in 89.005000s\n"
     ]
    }
   ],
   "source": [
    "print 'Training pipeline %s in the full dataset' % best_model_name\n",
    "_ = print_time(lambda: best_model.fit(train_set.append(test_set), train_set.append(test_set).label))"
   ]
  },
  {
   "cell_type": "code",
   "execution_count": 11,
   "metadata": {
    "collapsed": false,
    "scrolled": true
   },
   "outputs": [
    {
     "name": "stdout",
     "output_type": "stream",
     "text": [
      "Saving model best_model to disk\n",
      "Done in 3.037000s\n",
      "Saved at results/best_model.pkl\n"
     ]
    }
   ],
   "source": [
    "save_model('best_model', 'results', best_model)"
   ]
  },
  {
   "cell_type": "markdown",
   "metadata": {},
   "source": [
    "## Exploración de atributos mas importantes"
   ]
  },
  {
   "cell_type": "code",
   "execution_count": 12,
   "metadata": {
    "collapsed": false
   },
   "outputs": [],
   "source": [
    "extractors = best_model.named_steps['feature_extractors']\n",
    "simple_extractors = extractors.transformer_list[0][1]\n",
    "subject_extractors = extractors.transformer_list[1][1]\n",
    "subject_tfidf = subject_extractors.named_steps['tfidf']\n",
    "body_extractors = extractors.transformer_list[2][1]\n",
    "body_tfidf = body_extractors.named_steps['tfidf']\n",
    "body_l1 = body_extractors.named_steps['l1']\n",
    "rf = best_model.named_steps['random_forest']\n",
    "\n",
    "feature_names = []\n",
    "feature_names += [ 'simple_features_' + name  for name in simple_extractors.get_feature_names() ]\n",
    "feature_names += [ 'subject_tfidf_' + name  for name in subject_tfidf.get_feature_names() ]\n",
    "feature_names += [ 'body_l1_' + name  for name in body_l1.transform([body_tfidf.get_feature_names()])[0] ]\n",
    "feature_names = np.asarray(feature_names)"
   ]
  },
  {
   "cell_type": "code",
   "execution_count": 13,
   "metadata": {
    "collapsed": true
   },
   "outputs": [],
   "source": [
    "extracted = extractors.transform(train_set)"
   ]
  },
  {
   "cell_type": "code",
   "execution_count": 14,
   "metadata": {
    "collapsed": false,
    "scrolled": true
   },
   "outputs": [],
   "source": [
    "top_features_indexs = np.argsort(rf.feature_importances_)[::-1][0:10]\n",
    "top_features_importances = rf.feature_importances_[top_features_indexs]\n",
    "top_feature_names = feature_names[top_features_indexs]\n",
    "top_features = pd.DataFrame(extracted[:, top_features_indexs].todense(), columns=top_feature_names)\n",
    "top_features['label'] = train_set.label"
   ]
  },
  {
   "cell_type": "code",
   "execution_count": 15,
   "metadata": {
    "collapsed": false,
    "scrolled": true
   },
   "outputs": [
    {
     "data": {
      "image/png": "[encoded data removed]",
      "text/plain": [
       "<matplotlib.figure.Figure at 0xc998d30>"
      ]
     },
     "metadata": {},
     "output_type": "display_data"
    },
    {
     "data": {
      "image/png": "[encoded data removed]",
      "text/plain": [
       "<matplotlib.figure.Figure at 0x1ae71c18>"
      ]
     },
     "metadata": {},
     "output_type": "display_data"
    },
    {
     "data": {
      "image/png": "[encoded data removed]",
      "text/plain": [
       "<matplotlib.figure.Figure at 0x1f179b70>"
      ]
     },
     "metadata": {},
     "output_type": "display_data"
    },
    {
     "data": {
      "image/png": "[encoded data removed]",
      "text/plain": [
       "<matplotlib.figure.Figure at 0x2daceb38>"
      ]
     },
     "metadata": {},
     "output_type": "display_data"
    },
    {
     "data": {
      "image/png": "[encoded data removed]",
      "text/plain": [
       "<matplotlib.figure.Figure at 0x1eec3ba8>"
      ]
     },
     "metadata": {},
     "output_type": "display_data"
    }
   ],
   "source": [
    "for i in range(10):\n",
    "    if i % 2 == 0:\n",
    "        fig, axs = plt.subplots(ncols=2, sharey=True)\n",
    "        axs[0].set_yscale('log')\n",
    "        axs[1].set_yscale('log')\n",
    "    top_features.groupby('label')[top_feature_names[i]].plot(kind='hist',\n",
    "                                            title=top_feature_names[i] + ' - importance: %f' % top_features_importances[i],\n",
    "                                            ax=axs[i % 2],\n",
    "                                            legend=True, alpha=0.4)\n",
    "    "
   ]
  },
  {
   "cell_type": "markdown",
   "metadata": {},
   "source": [
    "## Conclusiones\n",
    "\n",
    "### TODO: Escribir conclusiones"
   ]
  }
 ],
 "metadata": {
  "anaconda-cloud": {},
  "kernelspec": {
   "display_name": "Python [Root]",
   "language": "python",
   "name": "Python [Root]"
  },
  "language_info": {
   "codemirror_mode": {
    "name": "ipython",
    "version": 2
   },
   "file_extension": ".py",
   "mimetype": "text/x-python",
   "name": "python",
   "nbconvert_exporter": "python",
   "pygments_lexer": "ipython2",
   "version": "2.7.12"
  }
 },
 "nbformat": 4,
 "nbformat_minor": 0
}
