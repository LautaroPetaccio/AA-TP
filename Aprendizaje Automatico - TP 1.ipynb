{
 "cells": [
  {
   "cell_type": "markdown",
   "metadata": {},
   "source": [
    "# Aprendizaje Automatico - TP 1"
   ]
  },
  {
   "cell_type": "code",
   "execution_count": 7,
   "metadata": {
    "collapsed": true
   },
   "outputs": [],
   "source": [
    "%matplotlib inline"
   ]
  },
  {
   "cell_type": "code",
   "execution_count": 4,
   "metadata": {
    "collapsed": false
   },
   "outputs": [],
   "source": [
    "import numpy as np\n",
    "import matplotlib.pyplot as plt"
   ]
  },
  {
   "cell_type": "code",
   "execution_count": 5,
   "metadata": {
    "collapsed": false
   },
   "outputs": [],
   "source": [
    "from sklearn.feature_extraction.text import HashingVectorizer, TfidfVectorizer, CountVectorizer\n",
    "from sklearn.tree import DecisionTreeClassifier\n",
    "from sklearn.pipeline import Pipeline, FeatureUnion\n",
    "from sklearn.feature_extraction import DictVectorizer"
   ]
  },
  {
   "cell_type": "code",
   "execution_count": 6,
   "metadata": {
    "collapsed": false
   },
   "outputs": [],
   "source": [
    "import simple_features as sf\n",
    "import custom_features as cf\n",
    "from util import *"
   ]
  },
  {
   "cell_type": "markdown",
   "metadata": {},
   "source": [
    "## Features"
   ]
  },
  {
   "cell_type": "markdown",
   "metadata": {},
   "source": [
    "Las siguientes features componen el conjunto de features simples(?) a utilizar:"
   ]
  },
  {
   "cell_type": "code",
   "execution_count": 8,
   "metadata": {
    "collapsed": false
   },
   "outputs": [],
   "source": [
    "def simple_features():\n",
    "    # Extraigo dos atributos simples: \n",
    "    # 1) Longitud del mail.\n",
    "    # 2) Cantidad de espacios en el mail.\n",
    "    # 3) Tiene el mail contenido HTML?\n",
    "    # 4) Tiene el mail imágenes?\n",
    "    # 5) Cantidad de oraciones\n",
    "    extractors = [ ('length', sf.body_length), \n",
    "      ('count_spaces', sf.count_spaces), \n",
    "      ('has_html', sf.has_html), \n",
    "      ('has_image', sf.has_image), \n",
    "      ('number_of_sentences', sf.number_of_sentences) ]\n",
    "    feature_extractor = sf.SimpleFeaturesExtractor(extractors)\n",
    "\n",
    "    return \"SimpleFeaturesExtractor\", feature_extractor"
   ]
  },
  {
   "cell_type": "markdown",
   "metadata": {},
   "source": [
    "A continuación, definimos nuestro pipeline para la extracción de features.\n",
    "1. Se parsean los emails.\n",
    "2. Se realiza la extracción de las simple features descriptas anteriormente.\n",
    "3. Se computa la matriz de term frequency–inverse document frequency para:\n",
    "    - El sujeto de los mails.\n",
    "    - El cuerpo de los mails.\n",
    "4. Se utiliza el sentiment analyzer de NLTK para extraer la intención del mensaje."
   ]
  },
  {
   "cell_type": "code",
   "execution_count": 9,
   "metadata": {
    "collapsed": false
   },
   "outputs": [],
   "source": [
    "features_extraction = Pipeline([\n",
    "  # Parse the emails\n",
    "  ('parser', cf.EmailParser()),\n",
    "\n",
    "  # Use FeatureUnion to combine the features\n",
    "  ('extraction', FeatureUnion(\n",
    "      transformer_list=[\n",
    "          # Simple features extactor\n",
    "          simple_features(),\n",
    "\n",
    "          # Pipeline for pulling features from the post's subject\n",
    "          ('subject', Pipeline([\n",
    "              ('selector', cf.ItemSelector(key = 'subject')),\n",
    "              ('tfidf', TfidfVectorizer(stop_words='english')),\n",
    "          ])),\n",
    "\n",
    "          # Pipeline for pulling features from the post's body\n",
    "          ('subject', Pipeline([\n",
    "              ('selector', cf.ItemSelector(key = 'body')),\n",
    "              ('tfidf', TfidfVectorizer(stop_words='english')),\n",
    "          ])),\n",
    "\n",
    "          # Pipeline for the sentiment analysis feature\n",
    "          ('sentiment_analysis', Pipeline([\n",
    "              ('selector', cf.ItemSelector(key = 'body')),\n",
    "              ('stats', cf.SentimentsStats()),\n",
    "              ('vect', DictVectorizer()),  # list of dicts -> feature matrix\n",
    "          ]))\n",
    "      ]\n",
    "  ))\n",
    "])"
   ]
  },
  {
   "cell_type": "markdown",
   "metadata": {},
   "source": [
    "## Experimentacion"
   ]
  },
  {
   "cell_type": "markdown",
   "metadata": {},
   "source": [
    "### Carga de datos"
   ]
  },
  {
   "cell_type": "markdown",
   "metadata": {},
   "source": [
    "Cargamos y spliteamos el dataset"
   ]
  },
  {
   "cell_type": "code",
   "execution_count": null,
   "metadata": {
    "collapsed": false,
    "scrolled": false
   },
   "outputs": [],
   "source": [
    "data, labels = load_data()"
   ]
  },
  {
   "cell_type": "markdown",
   "metadata": {},
   "source": [
    "### Evaluación de clasificadores "
   ]
  },
  {
   "cell_type": "markdown",
   "metadata": {},
   "source": [
    "#### Árbol de decisiones"
   ]
  },
  {
   "cell_type": "code",
   "execution_count": null,
   "metadata": {
    "collapsed": false
   },
   "outputs": [],
   "source": [
    "dt_pipeline = Pipeline([\n",
    "  ('feature_extractor', features_extraction),\n",
    "  ('tree_classifier', DecisionTreeClassifier())\n",
    "])\n",
    "\n",
    "cross_validate(dt_pipeline, 'DecisionTree', data, labels, cv_folds=10, n_jobs=-1)"
   ]
  },
  {
   "cell_type": "markdown",
   "metadata": {},
   "source": [
    "### Pruebas de Features"
   ]
  },
  {
   "cell_type": "markdown",
   "metadata": {},
   "source": [
    "Aca probamos distintos tipos de features."
   ]
  },
  {
   "cell_type": "markdown",
   "metadata": {},
   "source": [
    "#### Features del Baseline Example"
   ]
  },
  {
   "cell_type": "code",
   "execution_count": null,
   "metadata": {
    "collapsed": false
   },
   "outputs": [],
   "source": [
    "run_ml_pipeline(\n",
    "    simple_features(), \n",
    "    (DecisionTreeClassifier(), 'DecisionTree'), \n",
    "    data, labels, cv_folds=10, n_jobs=8)"
   ]
  },
  {
   "cell_type": "markdown",
   "metadata": {},
   "source": [
    "#### Features Vectorizer de SkLearn"
   ]
  },
  {
   "cell_type": "code",
   "execution_count": null,
   "metadata": {
    "collapsed": false,
    "scrolled": true
   },
   "outputs": [],
   "source": [
    "run_ml_pipeline(\n",
    "    vectorizer_features('count'), \n",
    "    (DecisionTreeClassifier(), 'DecisionTree'), \n",
    "    data, labels, cv_folds=10, n_jobs=8)"
   ]
  },
  {
   "cell_type": "code",
   "execution_count": null,
   "metadata": {
    "collapsed": false
   },
   "outputs": [],
   "source": [
    "run_ml_pipeline(\n",
    "    vectorizer_features('tfidf'), \n",
    "    (DecisionTreeClassifier(), 'DecisionTree'), \n",
    "    data, labels, cv_folds=10, n_jobs=8)"
   ]
  },
  {
   "cell_type": "code",
   "execution_count": null,
   "metadata": {
    "collapsed": false,
    "scrolled": false
   },
   "outputs": [],
   "source": [
    "run_ml_pipeline(\n",
    "    vectorizer_features('hashing'), \n",
    "    (DecisionTreeClassifier(), 'DecisionTree'), \n",
    "    data, labels, cv_folds=10, n_jobs=8)"
   ]
  },
  {
   "cell_type": "markdown",
   "metadata": {},
   "source": [
    "#### Pipeline (Sklearn)"
   ]
  },
  {
   "cell_type": "code",
   "execution_count": null,
   "metadata": {
    "collapsed": true
   },
   "outputs": [],
   "source": [
    "simple_feats, simple_feats_descr = simple_features()\n",
    "tfidf_vect, tfidf_vect_descr = vectorizer_features(vectorizer_type='tfidf')\n",
    "count_vect, count_vect_descr = vectorizer_features(vectorizer_type='count')\n",
    "hashing_vect, hashing_vect_descr = vectorizer_features(vectorizer_type='hashing')\n",
    "\n",
    "pipeline = Pipeline([\n",
    "    ('feats', FeatureUnion([(\"simple_feats\", simple_feats), (\"tfidfvect\", tfidf_vect), ('count',count_vect), ('hashing', hashing_vect)])),\n",
    "    ('clf', DecisionTreeClassifier())  # classifier\n",
    "])\n",
    "\n",
    "scores = cross_val_score(pipeline,\n",
    "                         data,  \n",
    "                         labels,\n",
    "                         cv=5,  \n",
    "                         scoring='accuracy', \n",
    "                         n_jobs=8,  \n",
    "                         )\n",
    "print scores"
   ]
  }
 ],
 "metadata": {
  "anaconda-cloud": {},
  "kernelspec": {
   "display_name": "Python 2",
   "language": "python",
   "name": "python2"
  },
  "language_info": {
   "codemirror_mode": {
    "name": "ipython",
    "version": 2
   },
   "file_extension": ".py",
   "mimetype": "text/x-python",
   "name": "python",
   "nbconvert_exporter": "python",
   "pygments_lexer": "ipython2",
   "version": "2.7.12"
  }
 },
 "nbformat": 4,
 "nbformat_minor": 0
}
