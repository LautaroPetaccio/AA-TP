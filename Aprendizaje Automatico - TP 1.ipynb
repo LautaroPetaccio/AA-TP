{
 "cells": [
  {
   "cell_type": "markdown",
   "metadata": {},
   "source": [
    "# Aprendizaje Automatico - TP 1"
   ]
  },
  {
   "cell_type": "code",
   "execution_count": 1,
   "metadata": {
    "collapsed": true
   },
   "outputs": [],
   "source": [
    "%matplotlib inline"
   ]
  },
  {
   "cell_type": "code",
   "execution_count": 2,
   "metadata": {
    "collapsed": false
   },
   "outputs": [],
   "source": [
    "import json\n",
    "import numpy as np\n",
    "import pandas as pd\n",
    "import matplotlib.pyplot as plt\n",
    "from time import time"
   ]
  },
  {
   "cell_type": "code",
   "execution_count": 3,
   "metadata": {
    "collapsed": true
   },
   "outputs": [],
   "source": [
    "from sklearn.cross_validation import train_test_split\n",
    "from sklearn.feature_extraction.text import TfidfVectorizer\n",
    "from sklearn.feature_extraction.text import HashingVectorizer\n",
    "from sklearn.tree import DecisionTreeClassifier\n",
    "from sklearn import metrics\n",
    "from sklearn.cross_validation import cross_val_score"
   ]
  },
  {
   "cell_type": "markdown",
   "metadata": {},
   "source": [
    "#### Funciones Auxiliares"
   ]
  },
  {
   "cell_type": "code",
   "execution_count": 4,
   "metadata": {
    "collapsed": false
   },
   "outputs": [],
   "source": [
    "def load_data():\n",
    "    ham_txt = json.load(open('dataset/ham_dev.json'))\n",
    "    spam_txt = json.load(open('dataset/spam_dev.json'))\n",
    "    return train_test_split(\n",
    "    ham_txt + spam_txt, \n",
    "    ['ham' for _ in range(len(ham_txt))] + ['spam' for _ in range(len(spam_txt))], \n",
    "    test_size=0.20)"
   ]
  },
  {
   "cell_type": "code",
   "execution_count": 5,
   "metadata": {
    "collapsed": true
   },
   "outputs": [],
   "source": [
    "def cross_validate(clf, X_train, y_train, cv_folds=5, n_jobs=4):\n",
    "    clf_descr = str(clf).split('(')[0]\n",
    "    print \"Running %d-Fold Cross Validation for %s\" % (cv_folds, clf_descr)\n",
    "    \n",
    "    t0 = time()\n",
    "    cv_scores = cross_val_score(clf, X_train, y_train, cv=cv_folds, n_jobs=n_jobs)\n",
    "    cv_time = time() - t0\n",
    "    \n",
    "    print \"Done in %fs\" % cv_time\n",
    "    print \"CV Score: mean %f std %f\" % (np.mean(cv_scores), np.std(cv_scores))"
   ]
  },
  {
   "cell_type": "code",
   "execution_count": 11,
   "metadata": {
    "collapsed": true
   },
   "outputs": [],
   "source": [
    "def benchmark(clf, X_train, y_train, X_test, y_test, print_report=True, print_cm=True):\n",
    "    print \"-\" * 80\n",
    "    clf_descr = str(clf).split('(')[0]\n",
    "    print \"Benchmark for \", clf_descr\n",
    "    print \"-\" * 80\n",
    "    \n",
    "    print \"Training \"\n",
    "    \n",
    "    t0 = time()\n",
    "    clf.fit(X_train, y_train)\n",
    "    train_time = time() - t0\n",
    "    \n",
    "    print \"Done in %fs\" % train_time\n",
    "    \n",
    "    print \"Running Test Score\"\n",
    "    \n",
    "    t0 = time()\n",
    "    pred = clf.predict(X_test)\n",
    "    test_time = time() - t0\n",
    "    \n",
    "    test_score = metrics.accuracy_score(y_test, pred)\n",
    "    print \"Done in %fs\" % test_time    \n",
    "    print \"Test Score:   %f\" % test_score\n",
    "    \n",
    "    classes = np.unique(y_test)\n",
    "\n",
    "    if print_report:\n",
    "        print \"Classification report:\"\n",
    "        print metrics.classification_report(y_test, pred, labels=classes)\n",
    "\n",
    "    if print_cm:\n",
    "        plt.matshow(metrics.confusion_matrix(y_test, pred), cmap=plt.cm.binary, interpolation='nearest')\n",
    "        plt.title('Confusion matrix')\n",
    "        plt.colorbar()\n",
    "        plt.ylabel('Expected label')\n",
    "        plt.xlabel('Predicted label')"
   ]
  },
  {
   "cell_type": "markdown",
   "metadata": {},
   "source": [
    "### Cargamos el dataset"
   ]
  },
  {
   "cell_type": "code",
   "execution_count": 7,
   "metadata": {
    "collapsed": false
   },
   "outputs": [
    {
     "name": "stdout",
     "output_type": "stream",
     "text": [
      "Training Set: 72000 mails - 515.820MB\n",
      "Test Set:     18000 mails - 149.968MB\n"
     ]
    }
   ],
   "source": [
    "data_train, data_test, y_train, y_test = load_data()\n",
    "print \"Training Set: %d mails - %0.3fMB\" % (len(data_train), sum(len(m.encode('utf-8')) for m in data_train) / 1e6)\n",
    "print \"Test Set:     %d mails - %0.3fMB\" % (len(data_test), sum(len(m.encode('utf-8')) for m in data_test) / 1e6)"
   ]
  },
  {
   "cell_type": "code",
   "execution_count": 8,
   "metadata": {
    "collapsed": false
   },
   "outputs": [],
   "source": [
    "def get_features(data_train, data_test, use_hashing=True):\n",
    "    print \"Extracting features from the training data using a sparse vectorizer\"\n",
    "\n",
    "    t0 = time()\n",
    "    if use_hashing:\n",
    "        n_features = 2 ** 18\n",
    "        vectorizer = HashingVectorizer(stop_words='english', non_negative=True, n_features=n_features)\n",
    "        X_train = vectorizer.transform(data_train)\n",
    "    else:\n",
    "        vectorizer = TfidfVectorizer(sublinear_tf=True, max_df=0.5, stop_words='english')\n",
    "        X_train = vectorizer.fit_transform(data_train)\n",
    "    duration = time() - t0\n",
    "\n",
    "    print \"Done in %fs\" % duration\n",
    "    \n",
    "    print \"Extracting features from the test data using the same vectorizer\"\n",
    "\n",
    "    t0 = time()\n",
    "    X_test = vectorizer.transform(data_test)\n",
    "    duration = time() - t0\n",
    "\n",
    "    print \"Done in %fs\" % duration\n",
    "    print \"\"\n",
    "    \n",
    "    print \"Training Set: samples %d features %d\" % X_train.shape\n",
    "    print \"Test     Set: samples %d features %d\" % X_test.shape\n",
    "    \n",
    "    return X_train, X_test"
   ]
  },
  {
   "cell_type": "code",
   "execution_count": 9,
   "metadata": {
    "collapsed": false
   },
   "outputs": [
    {
     "name": "stdout",
     "output_type": "stream",
     "text": [
      "Extracting features from the training data using a sparse vectorizer\n",
      "Done in 105.278000s\n",
      "\n",
      "Extracting features from the test data using the same vectorizer\n",
      "Done in 35.897000s\n",
      "\n",
      "Samples: 72000 Features: 262144\n",
      "Samples: 18000 Features: 262144\n"
     ]
    }
   ],
   "source": [
    "X_train, X_test = get_features(data_train, data_test)"
   ]
  },
  {
   "cell_type": "code",
   "execution_count": 12,
   "metadata": {
    "collapsed": false
   },
   "outputs": [
    {
     "name": "stdout",
     "output_type": "stream",
     "text": [
      "--------------------------------------------------------------------------------\n",
      "Benchmark for  DecisionTreeClassifier\n",
      "--------------------------------------------------------------------------------\n",
      "Training \n",
      "Done in 101.810000s\n",
      "Running Test Score\n",
      "Done in 0.085000s\n",
      "Test Score:   0.992389\n",
      "Classification report:\n",
      "             precision    recall  f1-score   support\n",
      "\n",
      "        ham       0.99      0.99      0.99      9018\n",
      "       spam       0.99      0.99      0.99      8982\n",
      "\n",
      "avg / total       0.99      0.99      0.99     18000\n",
      "\n"
     ]
    },
    {
     "data": {
      "image/png": "[encoded data removed]",
      "text/plain": [
       "<matplotlib.figure.Figure at 0x25a26d8>"
      ]
     },
     "metadata": {},
     "output_type": "display_data"
    }
   ],
   "source": [
    "benchmark(DecisionTreeClassifier(), X_train, y_train, X_test, y_test)\n"
   ]
  },
  {
   "cell_type": "code",
   "execution_count": null,
   "metadata": {
    "collapsed": true
   },
   "outputs": [],
   "source": []
  }
 ],
 "metadata": {
  "anaconda-cloud": {},
  "kernelspec": {
   "display_name": "Python [Root]",
   "language": "python",
   "name": "Python [Root]"
  },
  "language_info": {
   "codemirror_mode": {
    "name": "ipython",
    "version": 2
   },
   "file_extension": ".py",
   "mimetype": "text/x-python",
   "name": "python",
   "nbconvert_exporter": "python",
   "pygments_lexer": "ipython2",
   "version": "2.7.12"
  }
 },
 "nbformat": 4,
 "nbformat_minor": 0
}
