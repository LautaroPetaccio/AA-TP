{
 "cells": [
  {
   "cell_type": "markdown",
   "metadata": {},
   "source": [
    "# Aprendizaje Automatico - TP 1"
   ]
  },
  {
   "cell_type": "code",
   "execution_count": 1,
   "metadata": {
    "collapsed": true
   },
   "outputs": [],
   "source": [
    "%matplotlib inline"
   ]
  },
  {
   "cell_type": "code",
   "execution_count": 2,
   "metadata": {
    "collapsed": false
   },
   "outputs": [],
   "source": [
    "import os\n",
    "import json\n",
    "import numpy as np\n",
    "import pandas as pd\n",
    "import matplotlib.pyplot as plt\n",
    "from time import time, strftime"
   ]
  },
  {
   "cell_type": "code",
   "execution_count": 3,
   "metadata": {
    "collapsed": false
   },
   "outputs": [],
   "source": [
    "from sklearn.cross_validation import train_test_split\n",
    "from sklearn.feature_extraction.text import HashingVectorizer, TfidfVectorizer, CountVectorizer, TfidfTransformer\n",
    "from sklearn.tree import DecisionTreeClassifier\n",
    "from sklearn import metrics\n",
    "from sklearn.cross_validation import cross_val_score\n",
    "from sklearn.pipeline import Pipeline\n",
    "from sklearn.externals import joblib"
   ]
  },
  {
   "cell_type": "code",
   "execution_count": 4,
   "metadata": {
    "collapsed": false
   },
   "outputs": [],
   "source": [
    "import simple_features as sf\n",
    "import email_text_retrieval as etr"
   ]
  },
  {
   "cell_type": "markdown",
   "metadata": {},
   "source": [
    "#### Funciones Auxiliares"
   ]
  },
  {
   "cell_type": "code",
   "execution_count": 5,
   "metadata": {
    "collapsed": false
   },
   "outputs": [],
   "source": [
    "def load_data(max_rows_per_class=None, test_size=0.20):\n",
    "    ham_txt = json.load(open('dataset/ham_dev.json'))\n",
    "    spam_txt = json.load(open('dataset/spam_dev.json'))\n",
    "    \n",
    "    if max_rows_per_class is not None:\n",
    "        ham_txt = ham_txt[1:max_rows_per_class]\n",
    "        spam_txt = spam_txt[1:max_rows_per_class]\n",
    "    \n",
    "    df = pd.DataFrame(ham_txt + spam_txt, columns=['text'])\n",
    "    df['label'] = ['ham' for _ in range(len(ham_txt))] + ['spam' for _ in range(len(spam_txt))]\n",
    "    return train_test_split(df, test_size=test_size)"
   ]
  },
  {
   "cell_type": "code",
   "execution_count": 6,
   "metadata": {
    "collapsed": true
   },
   "outputs": [],
   "source": [
    "def cross_validate(clf, X_train, y_train, cv_folds=5, n_jobs=4):\n",
    "    clf_descr = str(clf).split('(')[0]\n",
    "    print \"Running %d-Fold Cross Validation for %s\" % (cv_folds, clf_descr)\n",
    "    \n",
    "    t0 = time()\n",
    "    cv_scores = cross_val_score(clf, X_train, y_train, cv=cv_folds, n_jobs=n_jobs)\n",
    "    cv_time = time() - t0\n",
    "    \n",
    "    print \"Done in %fs\" % cv_time\n",
    "    print \"CV Score: mean %f std %f\" % (np.mean(cv_scores), np.std(cv_scores))"
   ]
  },
  {
   "cell_type": "code",
   "execution_count": 7,
   "metadata": {
    "collapsed": false
   },
   "outputs": [],
   "source": [
    "def extract_features(feature_extractor_tuple, dataset_tuple):\n",
    "    feature_extractor, feature_extractor_descr = feature_extractor_tuple\n",
    "    data_train, data_test = dataset_tuple\n",
    "    \n",
    "    print \"Extracting features from the training data using a %s\" % feature_extractor_descr\n",
    "    t0 = time()\n",
    "    X_train = feature_extractor.fit_transform(data_train.text)\n",
    "    duration = time() - t0    \n",
    "    print \"Done in %fs\" % duration\n",
    "    \n",
    "    print \"Extracting features from the training data using the same %s\" % feature_extractor_descr\n",
    "    t0 = time()\n",
    "    X_test = feature_extractor.transform(data_test.text)\n",
    "    duration = time() - t0    \n",
    "    print \"Done in %fs\" % duration\n",
    "   \n",
    "    print \"\"\n",
    "    \n",
    "    print \"Training Set: %d samples %d features\" % X_train.shape\n",
    "    print \"Test     Set: %d samples %d features\" % X_test.shape\n",
    "    \n",
    "    print \"\"\n",
    "    \n",
    "    return X_train, X_test, feature_extractor"
   ]
  },
  {
   "cell_type": "code",
   "execution_count": 8,
   "metadata": {
    "collapsed": true
   },
   "outputs": [],
   "source": [
    "def fit(clf_tuple, X_train, y_train):\n",
    "    clf, clf_descr = clf_tuple\n",
    "    \n",
    "    print \"Fitting a %s Classifier\" % clf_descr\n",
    "    t0 = time()\n",
    "    clf.fit(X_train, y_train)\n",
    "    train_time = time() - t0    \n",
    "    print \"Done in %fs\" % train_time\n",
    "    print \"\"    \n",
    "    \n",
    "    return clf, clf_descr"
   ]
  },
  {
   "cell_type": "code",
   "execution_count": 9,
   "metadata": {
    "collapsed": true
   },
   "outputs": [],
   "source": [
    "def benchmark(clf_tuple, X_train, y_train, X_test, y_test):\n",
    "    clf, clf_descr = clf_tuple\n",
    "    \n",
    "    print \"Running Test Score on %s\" % clf_descr\n",
    "    t0 = time()\n",
    "    pred = clf.predict(X_test)\n",
    "    test_time = time() - t0\n",
    "    \n",
    "    test_score = metrics.accuracy_score(y_test, pred)\n",
    "    print \"Done in %fs\" % test_time    \n",
    "    print \"Test Score:   %f\" % test_score\n",
    "    \n",
    "    classes = np.unique(y_test)\n",
    "\n",
    "    print \"Classification report:\"\n",
    "    print metrics.classification_report(y_test, pred, labels=classes)\n",
    "\n",
    "    plt.matshow(metrics.confusion_matrix(y_test, pred), cmap=plt.cm.binary, interpolation='nearest')\n",
    "    plt.title('Confusion matrix',)\n",
    "    plt.colorbar()\n",
    "    plt.ylabel('Expected label')\n",
    "    plt.xlabel('Predicted label')"
   ]
  },
  {
   "cell_type": "code",
   "execution_count": 10,
   "metadata": {
    "collapsed": false
   },
   "outputs": [],
   "source": [
    "def train_benchmark_and_save(feature_extractor_tuple, clf_tuple, dataset_tuple):\n",
    "    X_train, X_test, feature_extractor = extract_features(feature_extractor_tuple, dataset_tuple)\n",
    "    data_train, data_test = dataset_tuple\n",
    "    clf_tuple = fit(clf_tuple, X_train, data_train.label)    \n",
    "    benchmark(clf_tuple, X_train, data_train.label, X_test, data_test.label)\n",
    "    \n",
    "    if hasattr(feature_extractor.__class__, 'get_feature_names') and callable(getattr(feature_extractor.__class__, 'get_feature_names')):\n",
    "        feature_names = np.array(feature_extractor.get_feature_names())\n",
    "    else:\n",
    "        feature_names = []\n",
    "        \n",
    "    if hasattr(clf_tuple[0].__class__, 'feature_importances_'):\n",
    "        feature_importances = np.array(clf_tuple[0].feature_importances_)\n",
    "    else:\n",
    "        feature_importances = []\n",
    "    \n",
    "    if len(feature_names) == len(feature_importances) and len(feature_names) > 0:\n",
    "        sort_idx = np.argsort(feature_importances)[::-1]\n",
    "        feature_names = feature_names[sort_idx]\n",
    "        feature_importances = feature_importances[sort_idx]\n",
    "    \n",
    "    directory = 'results\\%s-%s\\%s' % (feature_extractor_tuple[1], clf_tuple[1], strftime(\"%Y%m%d-%H%M%S\"))\n",
    "    if not os.path.exists(directory):\n",
    "        os.makedirs(directory)\n",
    "\n",
    "    joblib.dump(feature_extractor, '%s\\\\feature_names.pkl' % directory, compress=True)\n",
    "    joblib.dump(clf_tuple[0], '%s\\\\feature_importances.pkl' % directory, compress=True)    \n",
    "    joblib.dump(feature_extractor, '%s\\\\extractor.pkl' % directory, compress=True)\n",
    "    joblib.dump(clf_tuple[0], '%s\\\\classifier.pkl' % directory, compress=True)\n",
    "    "
   ]
  },
  {
   "cell_type": "markdown",
   "metadata": {},
   "source": [
    "## Features"
   ]
  },
  {
   "cell_type": "markdown",
   "metadata": {},
   "source": [
    "Aca definimos distintos tipos de features para hacer las pruebas"
   ]
  },
  {
   "cell_type": "code",
   "execution_count": 11,
   "metadata": {
    "collapsed": false
   },
   "outputs": [],
   "source": [
    "def simple_features(data_train, data_test):\n",
    "    # Extraigo dos atributos simples: \n",
    "    # 1) Longitud del mail.\n",
    "    # 2) Cantidad de espacios en el mail.\n",
    "    extractors = [ ('length', len), ('count_spaces', sf.count_spaces) ]\n",
    "    feature_extractor = sf.SimpleFeaturesExtractor(extractors)\n",
    "    feature_names = [ e[0] for e in extractors ]\n",
    "\n",
    "    return feature_extractor, \"SimpleFeaturesExtractor\""
   ]
  },
  {
   "cell_type": "code",
   "execution_count": 12,
   "metadata": {
    "collapsed": false
   },
   "outputs": [],
   "source": [
    "def vectorizer_features(data_train, data_test, vectorizer_type, use_custom_tokenizer=False, **kwargs):\n",
    "    tokenizer = etr.LemmaTokenizer() if use_custom_tokenizer else None    \n",
    "    if vectorizer_type == \"count\":\n",
    "        vectorizer = CountVectorizer(tokenizer=tokenizer, stop_words='english', **kwargs)\n",
    "        vectorizer_descr = \"BagOfWords\"        \n",
    "    elif vectorizer_type == \"tfidf\":\n",
    "        vectorizer = TfidfVectorizer(tokenizer=tokenizer, stop_words='english', **kwargs)\n",
    "        vectorizer_descr = \"TfIdf\"\n",
    "    elif vectorizer_type == \"hashing\":\n",
    "        vectorizer = HashingVectorizer(tokenizer=tokenizer, stop_words='english', **kwargs)\n",
    "        vectorizer_descr = \"HashingBagOfWords\"\n",
    "    else:\n",
    "        raise ValueError('Invalid vectorizer_type. Expected \\'count\\', \\'tfidf\\' or \\'hashing\\'')\n",
    "    \n",
    "    return vectorizer, \"%sSparseVectorizer\" % vectorizer_descr"
   ]
  },
  {
   "cell_type": "markdown",
   "metadata": {},
   "source": [
    "## Experimentacion"
   ]
  },
  {
   "cell_type": "markdown",
   "metadata": {},
   "source": [
    "### Carga de datos"
   ]
  },
  {
   "cell_type": "markdown",
   "metadata": {},
   "source": [
    "Cargamos y spliteamos el dataset"
   ]
  },
  {
   "cell_type": "code",
   "execution_count": 13,
   "metadata": {
    "collapsed": false,
    "scrolled": false
   },
   "outputs": [
    {
     "name": "stdout",
     "output_type": "stream",
     "text": [
      "Training Set: 1598 samples (5.790MB)\n",
      "Test Set:     400 samples (1.441MB)\n"
     ]
    }
   ],
   "source": [
    "### Ojo, se cargan solo 1000 para poder probar el codigo adecuadamente sin incurrir en largos tiempos de espera\n",
    "data_train, data_test = load_data(max_rows_per_class=1000, test_size=0.20)\n",
    "print \"Training Set: %d samples (%0.3fMB)\" % (len(data_train), sum(len(m.encode('utf-8')) for m in data_train.text) / 1e6)\n",
    "print \"Test Set:     %d samples (%0.3fMB)\" % (len(data_test), sum(len(m.encode('utf-8')) for m in data_test.text) / 1e6)"
   ]
  },
  {
   "cell_type": "markdown",
   "metadata": {},
   "source": [
    "### Pruebas de Features"
   ]
  },
  {
   "cell_type": "markdown",
   "metadata": {},
   "source": [
    "Aca probamos distintos tipos de features. Mediante la funcion 'train_benchmark_and_save' entrenamos, benchmarkeamos y grabamos en disco los resultados y modelos de cada combinacion que decidimos probar"
   ]
  },
  {
   "cell_type": "markdown",
   "metadata": {},
   "source": [
    "#### Features del Baseline Example"
   ]
  },
  {
   "cell_type": "code",
   "execution_count": 14,
   "metadata": {
    "collapsed": false
   },
   "outputs": [
    {
     "name": "stdout",
     "output_type": "stream",
     "text": [
      "Extracting features from the training data using a SimpleFeaturesExtractor\n",
      "Done in 0.009000s\n",
      "Extracting features from the training data using the same SimpleFeaturesExtractor\n",
      "Done in 0.002000s\n",
      "\n",
      "Training Set: 1598 samples 2 features\n",
      "Test     Set: 400 samples 2 features\n",
      "\n",
      "Fitting a DecisionTree Classifier\n",
      "Done in 0.003000s\n",
      "\n",
      "Running Test Score on DecisionTree\n",
      "Done in 0.000000s\n",
      "Test Score:   0.725000\n",
      "Classification report:\n",
      "             precision    recall  f1-score   support\n",
      "\n",
      "        ham       0.72      0.74      0.73       201\n",
      "       spam       0.73      0.71      0.72       199\n",
      "\n",
      "avg / total       0.73      0.72      0.72       400\n",
      "\n"
     ]
    },
    {
     "data": {
      "image/png": "[encoded data removed]",
      "text/plain": [
       "<matplotlib.figure.Figure at 0x1ef36d8>"
      ]
     },
     "metadata": {},
     "output_type": "display_data"
    }
   ],
   "source": [
    "train_benchmark_and_save(\n",
    "    simple_features(data_train, data_test), \n",
    "    (DecisionTreeClassifier(), 'DecisionTree'), \n",
    "    (data_train, data_test))"
   ]
  },
  {
   "cell_type": "markdown",
   "metadata": {},
   "source": [
    "##### Distintos tipos de Features nuestros"
   ]
  },
  {
   "cell_type": "code",
   "execution_count": 15,
   "metadata": {
    "collapsed": false
   },
   "outputs": [
    {
     "name": "stdout",
     "output_type": "stream",
     "text": [
      "Extracting features from the training data using a BagOfWordsSparseVectorizer\n",
      "Done in 0.678000s\n",
      "Extracting features from the training data using the same BagOfWordsSparseVectorizer\n",
      "Done in 0.136000s\n",
      "\n",
      "Training Set: 1598 samples 64781 features\n",
      "Test     Set: 400 samples 64781 features\n",
      "\n",
      "Fitting a DecisionTree Classifier\n",
      "Done in 0.022000s\n",
      "\n",
      "Running Test Score on DecisionTree\n",
      "Done in 0.000000s\n",
      "Test Score:   1.000000\n",
      "Classification report:\n",
      "             precision    recall  f1-score   support\n",
      "\n",
      "        ham       1.00      1.00      1.00       201\n",
      "       spam       1.00      1.00      1.00       199\n",
      "\n",
      "avg / total       1.00      1.00      1.00       400\n",
      "\n"
     ]
    },
    {
     "data": {
      "image/png": "[encoded data removed]",
      "text/plain": [
       "<matplotlib.figure.Figure at 0x623f3080>"
      ]
     },
     "metadata": {},
     "output_type": "display_data"
    }
   ],
   "source": [
    "train_benchmark_and_save(\n",
    "    vectorizer_features(data_train, data_test, 'count', use_custom_tokenizer=False), \n",
    "    (DecisionTreeClassifier(), 'DecisionTree'), \n",
    "    (data_train, data_test))"
   ]
  },
  {
   "cell_type": "code",
   "execution_count": 16,
   "metadata": {
    "collapsed": false
   },
   "outputs": [
    {
     "name": "stdout",
     "output_type": "stream",
     "text": [
      "Extracting features from the training data using a TfIdfSparseVectorizer\n",
      "Done in 0.665000s\n",
      "Extracting features from the training data using the same TfIdfSparseVectorizer\n",
      "Done in 0.142000s\n",
      "\n",
      "Training Set: 1598 samples 2426 features\n",
      "Test     Set: 400 samples 2426 features\n",
      "\n",
      "Fitting a DecisionTree Classifier\n",
      "Done in 0.011000s\n",
      "\n",
      "Running Test Score on DecisionTree\n",
      "Done in 0.000000s\n",
      "Test Score:   1.000000\n",
      "Classification report:\n",
      "             precision    recall  f1-score   support\n",
      "\n",
      "        ham       1.00      1.00      1.00       201\n",
      "       spam       1.00      1.00      1.00       199\n",
      "\n",
      "avg / total       1.00      1.00      1.00       400\n",
      "\n"
     ]
    },
    {
     "data": {
      "image/png": "[encoded data removed]",
      "text/plain": [
       "<matplotlib.figure.Figure at 0xc630400>"
      ]
     },
     "metadata": {},
     "output_type": "display_data"
    }
   ],
   "source": [
    "train_benchmark_and_save(\n",
    "    vectorizer_features(data_train, data_test, 'tfidf', use_custom_tokenizer=False, sublinear_tf=True, min_df=0.01, max_df=0.7), \n",
    "    (DecisionTreeClassifier(), 'DecisionTree'), \n",
    "    (data_train, data_test))"
   ]
  },
  {
   "cell_type": "code",
   "execution_count": 17,
   "metadata": {
    "collapsed": false
   },
   "outputs": [
    {
     "name": "stdout",
     "output_type": "stream",
     "text": [
      "Extracting features from the training data using a HashingBagOfWordsSparseVectorizer\n",
      "Done in 0.634000s\n",
      "Extracting features from the training data using the same HashingBagOfWordsSparseVectorizer\n",
      "Done in 0.160000s\n",
      "\n",
      "Training Set: 1598 samples 262144 features\n",
      "Test     Set: 400 samples 262144 features\n",
      "\n",
      "Fitting a DecisionTree Classifier\n",
      "Done in 0.128000s\n",
      "\n",
      "Running Test Score on DecisionTree\n",
      "Done in 0.001000s\n",
      "Test Score:   1.000000\n",
      "Classification report:\n",
      "             precision    recall  f1-score   support\n",
      "\n",
      "        ham       1.00      1.00      1.00       201\n",
      "       spam       1.00      1.00      1.00       199\n",
      "\n",
      "avg / total       1.00      1.00      1.00       400\n",
      "\n"
     ]
    },
    {
     "data": {
      "image/png": "[encoded data removed]",
      "text/plain": [
       "<matplotlib.figure.Figure at 0x1d230c88>"
      ]
     },
     "metadata": {},
     "output_type": "display_data"
    }
   ],
   "source": [
    "train_benchmark_and_save(\n",
    "    vectorizer_features(data_train, data_test, 'hashing', use_custom_tokenizer=False, non_negative=True, n_features=2 ** 18), \n",
    "    (DecisionTreeClassifier(), 'DecisionTree'), \n",
    "    (data_train, data_test))"
   ]
  },
  {
   "cell_type": "code",
   "execution_count": 18,
   "metadata": {
    "collapsed": false
   },
   "outputs": [
    {
     "name": "stdout",
     "output_type": "stream",
     "text": [
      "Extracting features from the training data using a BagOfWordsSparseVectorizer\n",
      "Done in 9.785000s\n",
      "Extracting features from the training data using the same BagOfWordsSparseVectorizer\n",
      "Done in 2.051000s\n",
      "\n",
      "Training Set: 1598 samples 69117 features\n",
      "Test     Set: 400 samples 69117 features\n",
      "\n",
      "Fitting a DecisionTree Classifier\n",
      "Done in 0.022000s\n",
      "\n",
      "Running Test Score on DecisionTree\n",
      "Done in 0.000000s\n",
      "Test Score:   1.000000\n",
      "Classification report:\n",
      "             precision    recall  f1-score   support\n",
      "\n",
      "        ham       1.00      1.00      1.00       201\n",
      "       spam       1.00      1.00      1.00       199\n",
      "\n",
      "avg / total       1.00      1.00      1.00       400\n",
      "\n"
     ]
    },
    {
     "data": {
      "image/png": "[encoded data removed]",
      "text/plain": [
       "<matplotlib.figure.Figure at 0x1913e358>"
      ]
     },
     "metadata": {},
     "output_type": "display_data"
    }
   ],
   "source": [
    "train_benchmark_and_save(\n",
    "    vectorizer_features(data_train, data_test, 'count', use_custom_tokenizer=True), \n",
    "    (DecisionTreeClassifier(), 'DecisionTree'), \n",
    "    (data_train, data_test))"
   ]
  },
  {
   "cell_type": "code",
   "execution_count": 19,
   "metadata": {
    "collapsed": false
   },
   "outputs": [
    {
     "name": "stdout",
     "output_type": "stream",
     "text": [
      "Extracting features from the training data using a TfIdfSparseVectorizer\n",
      "Done in 8.461000s\n",
      "Extracting features from the training data using the same TfIdfSparseVectorizer\n",
      "Done in 2.097000s\n",
      "\n",
      "Training Set: 1598 samples 2332 features\n",
      "Test     Set: 400 samples 2332 features\n",
      "\n",
      "Fitting a DecisionTree Classifier\n",
      "Done in 0.012000s\n",
      "\n",
      "Running Test Score on DecisionTree\n",
      "Done in 0.000000s\n",
      "Test Score:   1.000000\n",
      "Classification report:\n",
      "             precision    recall  f1-score   support\n",
      "\n",
      "        ham       1.00      1.00      1.00       201\n",
      "       spam       1.00      1.00      1.00       199\n",
      "\n",
      "avg / total       1.00      1.00      1.00       400\n",
      "\n"
     ]
    },
    {
     "data": {
      "image/png": "[encoded data removed]",
      "text/plain": [
       "<matplotlib.figure.Figure at 0x6c139a20>"
      ]
     },
     "metadata": {},
     "output_type": "display_data"
    }
   ],
   "source": [
    "train_benchmark_and_save(\n",
    "    vectorizer_features(data_train, data_test, 'tfidf', use_custom_tokenizer=True, sublinear_tf=True, min_df=0.01, max_df=0.7), \n",
    "    (DecisionTreeClassifier(), 'DecisionTree'), \n",
    "    (data_train, data_test))"
   ]
  },
  {
   "cell_type": "code",
   "execution_count": 20,
   "metadata": {
    "collapsed": false
   },
   "outputs": [
    {
     "name": "stdout",
     "output_type": "stream",
     "text": [
      "Extracting features from the training data using a HashingBagOfWordsSparseVectorizer\n",
      "Done in 8.497000s\n",
      "Extracting features from the training data using the same HashingBagOfWordsSparseVectorizer\n",
      "Done in 2.121000s\n",
      "\n",
      "Training Set: 1598 samples 262144 features\n",
      "Test     Set: 400 samples 262144 features\n",
      "\n",
      "Fitting a DecisionTree Classifier\n",
      "Done in 0.128000s\n",
      "\n",
      "Running Test Score on DecisionTree\n",
      "Done in 0.001000s\n",
      "Test Score:   1.000000\n",
      "Classification report:\n",
      "             precision    recall  f1-score   support\n",
      "\n",
      "        ham       1.00      1.00      1.00       201\n",
      "       spam       1.00      1.00      1.00       199\n",
      "\n",
      "avg / total       1.00      1.00      1.00       400\n",
      "\n"
     ]
    },
    {
     "data": {
      "image/png": "[encoded data removed]",
      "text/plain": [
       "<matplotlib.figure.Figure at 0x79f9cdd8>"
      ]
     },
     "metadata": {},
     "output_type": "display_data"
    }
   ],
   "source": [
    "train_benchmark_and_save(\n",
    "    vectorizer_features(data_train, data_test, 'hashing', use_custom_tokenizer=True, non_negative=True, n_features=2 ** 18), \n",
    "    (DecisionTreeClassifier(), 'DecisionTree'), \n",
    "    (data_train, data_test))"
   ]
  }
 ],
 "metadata": {
  "anaconda-cloud": {},
  "kernelspec": {
   "display_name": "Python [Root]",
   "language": "python",
   "name": "Python [Root]"
  },
  "language_info": {
   "codemirror_mode": {
    "name": "ipython",
    "version": 2
   },
   "file_extension": ".py",
   "mimetype": "text/x-python",
   "name": "python",
   "nbconvert_exporter": "python",
   "pygments_lexer": "ipython2",
   "version": "2.7.12"
  }
 },
 "nbformat": 4,
 "nbformat_minor": 0
}
