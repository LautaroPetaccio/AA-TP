{
 "cells": [
  {
   "cell_type": "markdown",
   "metadata": {},
   "source": [
    "# Aprendizaje Automatico - TP 1"
   ]
  },
  {
   "cell_type": "code",
   "execution_count": 1,
   "metadata": {
    "collapsed": true
   },
   "outputs": [],
   "source": [
    "%matplotlib inline"
   ]
  },
  {
   "cell_type": "code",
   "execution_count": 2,
   "metadata": {
    "collapsed": false
   },
   "outputs": [],
   "source": [
    "import numpy as np\n",
    "import matplotlib.pyplot as plt"
   ]
  },
  {
   "cell_type": "code",
   "execution_count": 3,
   "metadata": {
    "collapsed": false
   },
   "outputs": [],
   "source": [
    "from sklearn.feature_extraction.text import HashingVectorizer, TfidfVectorizer, CountVectorizer\n",
    "from sklearn.tree import DecisionTreeClassifier"
   ]
  },
  {
   "cell_type": "code",
   "execution_count": 4,
   "metadata": {
    "collapsed": false
   },
   "outputs": [],
   "source": [
    "import simple_features as sf\n",
    "from util import *"
   ]
  },
  {
   "cell_type": "markdown",
   "metadata": {},
   "source": [
    "## Features"
   ]
  },
  {
   "cell_type": "markdown",
   "metadata": {},
   "source": [
    "Aca definimos distintos tipos de features para hacer las pruebas"
   ]
  },
  {
   "cell_type": "code",
   "execution_count": 5,
   "metadata": {
    "collapsed": false
   },
   "outputs": [],
   "source": [
    "def simple_features():\n",
    "    # Extraigo dos atributos simples: \n",
    "    # 1) Longitud del mail.\n",
    "    # 2) Cantidad de espacios en el mail.\n",
    "    extractors = [ ('length', len), ('count_spaces', sf.count_spaces) ]\n",
    "    feature_extractor = sf.SimpleFeaturesExtractor(extractors)\n",
    "\n",
    "    return feature_extractor, \"SimpleFeaturesExtractor\""
   ]
  },
  {
   "cell_type": "code",
   "execution_count": 6,
   "metadata": {
    "collapsed": false
   },
   "outputs": [],
   "source": [
    "def vectorizer_features(vectorizer_type, **kwargs):\n",
    "    if vectorizer_type == \"count\":\n",
    "        vectorizer = CountVectorizer(stop_words='english', **kwargs)\n",
    "        vectorizer_descr = \"BagOfWords\"        \n",
    "    elif vectorizer_type == \"tfidf\":\n",
    "        vectorizer = TfidfVectorizer(stop_words='english', **kwargs)\n",
    "        vectorizer_descr = \"TfIdf\"\n",
    "    elif vectorizer_type == \"hashing\":\n",
    "        vectorizer = HashingVectorizer(stop_words='english', **kwargs)\n",
    "        vectorizer_descr = \"HashingBagOfWords\"\n",
    "    else:\n",
    "        raise ValueError('Invalid vectorizer_type. Expected \\'count\\', \\'tfidf\\' or \\'hashing\\'')\n",
    "    \n",
    "    return vectorizer, \"%sSparseVectorizer\" % vectorizer_descr"
   ]
  },
  {
   "cell_type": "markdown",
   "metadata": {},
   "source": [
    "## Experimentacion"
   ]
  },
  {
   "cell_type": "markdown",
   "metadata": {},
   "source": [
    "### Carga de datos"
   ]
  },
  {
   "cell_type": "markdown",
   "metadata": {},
   "source": [
    "Cargamos y spliteamos el dataset"
   ]
  },
  {
   "cell_type": "code",
   "execution_count": 7,
   "metadata": {
    "collapsed": false,
    "scrolled": false
   },
   "outputs": [
    {
     "name": "stdout",
     "output_type": "stream",
     "text": [
      "Dataset: 90000 samples(665.789MB) - Ham: 45000(50.00%) Spam: 45000(50.00%)\n"
     ]
    }
   ],
   "source": [
    "data, labels = load_data()"
   ]
  },
  {
   "cell_type": "markdown",
   "metadata": {},
   "source": [
    "### Pruebas de Features"
   ]
  },
  {
   "cell_type": "markdown",
   "metadata": {},
   "source": [
    "Aca probamos distintos tipos de features. Mediante la funcion 'train_benchmark_and_save' entrenamos, benchmarkeamos y grabamos en disco los resultados y modelos de cada combinacion que decidimos probar"
   ]
  },
  {
   "cell_type": "markdown",
   "metadata": {},
   "source": [
    "#### Features del Baseline Example"
   ]
  },
  {
   "cell_type": "code",
   "execution_count": 8,
   "metadata": {
    "collapsed": false
   },
   "outputs": [
    {
     "name": "stdout",
     "output_type": "stream",
     "text": [
      "Running ML Pipeline for SimpleFeaturesExtractor-DecisionTree(20160903-203024)\n",
      "Extracting features from the dataset using a SimpleFeaturesExtractor\n",
      "Done in 0.605000s\n",
      "Set: 90000 samples 2 features\n",
      "\n",
      "Running 10-Fold Cross Validation for DecisionTree\n",
      "Done in 1.360000s\n",
      "CV Score: mean 0.687478 std 0.019115\n",
      "Saving Trained Extractor and Model SimpleFeaturesExtractor-DecisionTree\n"
     ]
    }
   ],
   "source": [
    "run_ml_pipeline(\n",
    "    simple_features(), \n",
    "    (DecisionTreeClassifier(), 'DecisionTree'), \n",
    "    data, labels, cv_folds=10, n_jobs=8)"
   ]
  },
  {
   "cell_type": "markdown",
   "metadata": {},
   "source": [
    "#### Features Vectorizer de SkLearn"
   ]
  },
  {
   "cell_type": "code",
   "execution_count": 9,
   "metadata": {
    "collapsed": false,
    "scrolled": true
   },
   "outputs": [
    {
     "name": "stdout",
     "output_type": "stream",
     "text": [
      "Running ML Pipeline for BagOfWordsSparseVectorizer-DecisionTree(20160903-203026)\n",
      "Extracting features from the dataset using a BagOfWordsSparseVectorizer\n",
      "Done in 87.154000s\n",
      "Set: 90000 samples 7460706 features\n",
      "\n",
      "Running 10-Fold Cross Validation for DecisionTree\n",
      "Done in 1699.139000s\n",
      "CV Score: mean 0.993822 std 0.004529\n",
      "Saving Trained Extractor and Model BagOfWordsSparseVectorizer-DecisionTree\n"
     ]
    }
   ],
   "source": [
    "run_ml_pipeline(\n",
    "    vectorizer_features('count'), \n",
    "    (DecisionTreeClassifier(), 'DecisionTree'), \n",
    "    data, labels, cv_folds=10, n_jobs=8)"
   ]
  },
  {
   "cell_type": "code",
   "execution_count": 10,
   "metadata": {
    "collapsed": false
   },
   "outputs": [
    {
     "name": "stdout",
     "output_type": "stream",
     "text": [
      "Running ML Pipeline for TfIdfSparseVectorizer-DecisionTree(20160903-210408)\n",
      "Extracting features from the dataset using a TfIdfSparseVectorizer\n",
      "Done in 96.903000s\n",
      "Set: 90000 samples 7460706 features\n",
      "\n",
      "Running 10-Fold Cross Validation for DecisionTree\n",
      "Done in 1613.365000s\n",
      "CV Score: mean 0.992622 std 0.005582\n",
      "Saving Trained Extractor and Model TfIdfSparseVectorizer-DecisionTree\n"
     ]
    }
   ],
   "source": [
    "run_ml_pipeline(\n",
    "    vectorizer_features('tfidf'), \n",
    "    (DecisionTreeClassifier(), 'DecisionTree'), \n",
    "    data, labels, cv_folds=10, n_jobs=8)"
   ]
  },
  {
   "cell_type": "code",
   "execution_count": 11,
   "metadata": {
    "collapsed": false
   },
   "outputs": [
    {
     "name": "stdout",
     "output_type": "stream",
     "text": [
      "Running ML Pipeline for HashingBagOfWordsSparseVectorizer-DecisionTree(20160903-213641)\n",
      "Extracting features from the dataset using a HashingBagOfWordsSparseVectorizer\n",
      "Done in 54.131000s\n",
      "Set: 90000 samples 1048576 features\n",
      "\n",
      "Running 10-Fold Cross Validation for DecisionTree\n",
      "Done in 188.892000s\n",
      "CV Score: mean 0.992744 std 0.005164\n",
      "Saving Trained Extractor and Model HashingBagOfWordsSparseVectorizer-DecisionTree\n"
     ]
    }
   ],
   "source": [
    "run_ml_pipeline(\n",
    "    vectorizer_features('hashing'), \n",
    "    (DecisionTreeClassifier(), 'DecisionTree'), \n",
    "    data, labels, cv_folds=10, n_jobs=8)"
   ]
  },
  {
   "cell_type": "markdown",
   "metadata": {},
   "source": [
    "#### Features Nuestros"
   ]
  },
  {
   "cell_type": "code",
   "execution_count": null,
   "metadata": {
    "collapsed": true
   },
   "outputs": [],
   "source": []
  }
 ],
 "metadata": {
  "anaconda-cloud": {},
  "kernelspec": {
   "display_name": "Python [Root]",
   "language": "python",
   "name": "Python [Root]"
  },
  "language_info": {
   "codemirror_mode": {
    "name": "ipython",
    "version": 2
   },
   "file_extension": ".py",
   "mimetype": "text/x-python",
   "name": "python",
   "nbconvert_exporter": "python",
   "pygments_lexer": "ipython2",
   "version": "2.7.12"
  }
 },
 "nbformat": 4,
 "nbformat_minor": 0
}
