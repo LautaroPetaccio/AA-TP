{
 "cells": [
  {
   "cell_type": "markdown",
   "metadata": {},
   "source": [
    "# Aprendizaje Automatico - TP 1"
   ]
  },
  {
   "cell_type": "code",
   "execution_count": 1,
   "metadata": {
    "collapsed": true
   },
   "outputs": [],
   "source": [
    "%matplotlib inline"
   ]
  },
  {
   "cell_type": "code",
   "execution_count": 2,
   "metadata": {
    "collapsed": false
   },
   "outputs": [],
   "source": [
    "import json\n",
    "import numpy as np\n",
    "import pandas as pd\n",
    "import matplotlib.pyplot as plt\n",
    "from time import time"
   ]
  },
  {
   "cell_type": "code",
   "execution_count": 3,
   "metadata": {
    "collapsed": true
   },
   "outputs": [],
   "source": [
    "from sklearn.cross_validation import train_test_split\n",
    "from sklearn.feature_extraction.text import HashingVectorizer, TfidfVectorizer, CountVectorizer, TfidfTransformer\n",
    "from sklearn.tree import DecisionTreeClassifier\n",
    "from sklearn import metrics\n",
    "from sklearn.cross_validation import cross_val_score"
   ]
  },
  {
   "cell_type": "code",
   "execution_count": 4,
   "metadata": {
    "collapsed": true
   },
   "outputs": [],
   "source": [
    "import email_text_retrieval as tr"
   ]
  },
  {
   "cell_type": "markdown",
   "metadata": {},
   "source": [
    "#### Funciones Auxiliares"
   ]
  },
  {
   "cell_type": "code",
   "execution_count": 5,
   "metadata": {
    "collapsed": false
   },
   "outputs": [],
   "source": [
    "def load_data():\n",
    "    ham_txt = json.load(open('dataset/ham_dev.json'))\n",
    "    spam_txt = json.load(open('dataset/spam_dev.json'))\n",
    "    df = pd.DataFrame(ham_txt + spam_txt, columns=['text'])\n",
    "    df['label'] = ['ham' for _ in range(len(ham_txt))] + ['spam' for _ in range(len(spam_txt))]\n",
    "    return train_test_split(df, test_size=0.20)"
   ]
  },
  {
   "cell_type": "code",
   "execution_count": 6,
   "metadata": {
    "collapsed": true
   },
   "outputs": [],
   "source": [
    "def cross_validate(clf, X_train, y_train, cv_folds=5, n_jobs=4):\n",
    "    clf_descr = str(clf).split('(')[0]\n",
    "    print \"Running %d-Fold Cross Validation for %s\" % (cv_folds, clf_descr)\n",
    "    \n",
    "    t0 = time()\n",
    "    cv_scores = cross_val_score(clf, X_train, y_train, cv=cv_folds, n_jobs=n_jobs)\n",
    "    cv_time = time() - t0\n",
    "    \n",
    "    print \"Done in %fs\" % cv_time\n",
    "    print \"CV Score: mean %f std %f\" % (np.mean(cv_scores), np.std(cv_scores))"
   ]
  },
  {
   "cell_type": "code",
   "execution_count": 7,
   "metadata": {
    "collapsed": true
   },
   "outputs": [],
   "source": [
    "def benchmark(clf, X_train, y_train, X_test, y_test, print_report=True, print_cm=True):\n",
    "    print \"-\" * 80\n",
    "    clf_descr = str(clf).split('(')[0]\n",
    "    print \"Benchmark for \", clf_descr\n",
    "    print \"-\" * 80\n",
    "    \n",
    "    print \"Training \"\n",
    "    \n",
    "    t0 = time()\n",
    "    clf.fit(X_train, y_train)\n",
    "    train_time = time() - t0\n",
    "    \n",
    "    print \"Done in %fs\" % train_time\n",
    "    \n",
    "    print \"Running Test Score\"\n",
    "    \n",
    "    t0 = time()\n",
    "    pred = clf.predict(X_test)\n",
    "    test_time = time() - t0\n",
    "    \n",
    "    test_score = metrics.accuracy_score(y_test, pred)\n",
    "    print \"Done in %fs\" % test_time    \n",
    "    print \"Test Score:   %f\" % test_score\n",
    "    \n",
    "    classes = np.unique(y_test)\n",
    "\n",
    "    if print_report:\n",
    "        print \"Classification report:\"\n",
    "        print metrics.classification_report(y_test, pred, labels=classes)\n",
    "\n",
    "    if print_cm:\n",
    "        plt.matshow(metrics.confusion_matrix(y_test, pred), cmap=plt.cm.binary, interpolation='nearest')\n",
    "        plt.title('Confusion matrix',)\n",
    "        plt.colorbar()\n",
    "        plt.ylabel('Expected label')\n",
    "        plt.xlabel('Predicted label')"
   ]
  },
  {
   "cell_type": "markdown",
   "metadata": {},
   "source": [
    "## Features"
   ]
  },
  {
   "cell_type": "markdown",
   "metadata": {},
   "source": [
    "Aca definimos distintos tipos de features para hacer las pruebas"
   ]
  },
  {
   "cell_type": "code",
   "execution_count": 8,
   "metadata": {
    "collapsed": true
   },
   "outputs": [],
   "source": [
    "def simple_features(data_train, data_test):\n",
    "    # Extraigo dos atributos simples: \n",
    "    # 1) Longitud del mail.\n",
    "    # 2) Cantidad de espacios en el mail.\n",
    "    \n",
    "    extractors = [ ('len', len), ('count_spaces', lambda txt : txt.count(\" \")) ]\n",
    "    \n",
    "    df_train = pd.DataFrame({ e[0]: data_train.text.apply(e[1]).values for e in extractors })\n",
    "    df_test = pd.DataFrame({ e[0]: data_test.text.apply(e[1]).values for e in extractors })\n",
    "       \n",
    "    X_train = df_train[[e[0] for e in extractors]].values\n",
    "    X_test = df_test[[e[0] for e in extractors]].values\n",
    "        \n",
    "    print \"Training Set: %d samples %d features\" % X_train.shape\n",
    "    print \"Test     Set: %d samples %d features\" % X_test.shape\n",
    "\n",
    "    return X_train, X_test"
   ]
  },
  {
   "cell_type": "code",
   "execution_count": 9,
   "metadata": {
    "collapsed": true
   },
   "outputs": [],
   "source": [
    "def sklearn_doc_classification_features(data_train, data_test, use_hashing=True):\n",
    "    print \"Extracting features from the training data using a sparse vectorizer\"\n",
    "\n",
    "    t0 = time()\n",
    "    if use_hashing:\n",
    "        n_features = 2 ** 18\n",
    "        vectorizer = HashingVectorizer(stop_words='english', non_negative=True, n_features=n_features)\n",
    "        X_train = vectorizer.transform(data_train.text)\n",
    "    else:\n",
    "        vectorizer = TfidfVectorizer(sublinear_tf=True, max_df=0.5, stop_words='english')\n",
    "        X_train = vectorizer.fit_transform(data_train.text)\n",
    "    duration = time() - t0\n",
    "\n",
    "    print \"Done in %fs\" % duration\n",
    "    \n",
    "    print \"Extracting features from the test data using the same vectorizer\"\n",
    "\n",
    "    t0 = time()\n",
    "    X_test = vectorizer.transform(data_test.text)\n",
    "    duration = time() - t0\n",
    "\n",
    "    print \"Done in %fs\" % duration\n",
    "    print \"\"\n",
    "    \n",
    "    print \"Training Set: %d samples %d features\" % X_train.shape\n",
    "    print \"Test     Set: %d samples %d features\" % X_test.shape\n",
    "    \n",
    "    return X_train, X_test"
   ]
  },
  {
   "cell_type": "code",
   "execution_count": 10,
   "metadata": {
    "collapsed": true
   },
   "outputs": [],
   "source": [
    "def our_features(data_train, data_test, tf_idf=False):\n",
    "    print \"Extracting features from the training data using a BoW sparse vectorizer\"    \n",
    "    bag_of_words_vectorizer = CountVectorizer(tokenizer=tr.LemmaTokenizer())\n",
    "    t0 = time()\n",
    "    bow_train = bag_of_words_vectorizer.fit_transform(data_train.text)\n",
    "    duration = time() - t0    \n",
    "    print \"Done in %fs\" % duration\n",
    "    \n",
    "    if tf_idf:\n",
    "        print \"Applying term weighting on the training features using TF-IDF\"\n",
    "        tfidf_transformer = TfidfTransformer(sublinear_tf=True, min_df=0.01, max_df=0.7)\n",
    "        t0 = time()\n",
    "        X_train = vectorizer.fit_transform(bow_train)\n",
    "        duration = time() - t0\n",
    "        print \"Done in %fs\" % duration\n",
    "    else:\n",
    "        X_train = bow_train\n",
    "    \n",
    "    print \"Extracting features from the test data using the same vectorizer\"\n",
    "    t0 = time()\n",
    "    bow_test = bag_of_words_vectorizer.transform(data_test.text)\n",
    "    duration = time() - t0\n",
    "    print \"Done in %fs\" % duration\n",
    "    \n",
    "    if tf_idf:\n",
    "        print \"Applying term weighting on the test features using TF-IDF\"\n",
    "        t0 = time()\n",
    "        X_test = tfidf_transformer.transform(bow_test)        \n",
    "        duration = time() - t0\n",
    "        print \"Done in %fs\" % duration\n",
    "    else:\n",
    "        X_test = bow_test\n",
    "    \n",
    "    print \"\"\n",
    "    \n",
    "    print \"Training Set: %d samples %d features\" % X_train.shape\n",
    "    print \"Test     Set: %d samples %d features\" % X_test.shape\n",
    "    \n",
    "    return X_train, X_test"
   ]
  },
  {
   "cell_type": "markdown",
   "metadata": {},
   "source": [
    "## Experimentacion"
   ]
  },
  {
   "cell_type": "markdown",
   "metadata": {},
   "source": [
    "Cargamos y spliteamos el dataset"
   ]
  },
  {
   "cell_type": "code",
   "execution_count": 11,
   "metadata": {
    "collapsed": false
   },
   "outputs": [
    {
     "name": "stdout",
     "output_type": "stream",
     "text": [
      "Training Set: 72000 samples (545.195MB)\n",
      "Test Set:     18000 samples (120.594MB)\n"
     ]
    }
   ],
   "source": [
    "data_train, data_test = load_data()\n",
    "print \"Training Set: %d samples (%0.3fMB)\" % (len(data_train), sum(len(m.encode('utf-8')) for m in data_train.text) / 1e6)\n",
    "print \"Test Set:     %d samples (%0.3fMB)\" % (len(data_test), sum(len(m.encode('utf-8')) for m in data_test.text) / 1e6)"
   ]
  },
  {
   "cell_type": "markdown",
   "metadata": {},
   "source": [
    "##### Features del Baseline Example"
   ]
  },
  {
   "cell_type": "code",
   "execution_count": 12,
   "metadata": {
    "collapsed": false
   },
   "outputs": [
    {
     "name": "stdout",
     "output_type": "stream",
     "text": [
      "Training Set: 72000 samples 2 features\n",
      "Test     Set: 18000 samples 2 features\n"
     ]
    }
   ],
   "source": [
    "X_train, X_test = simple_features(data_train, data_test)"
   ]
  },
  {
   "cell_type": "code",
   "execution_count": 13,
   "metadata": {
    "collapsed": false
   },
   "outputs": [
    {
     "name": "stdout",
     "output_type": "stream",
     "text": [
      "--------------------------------------------------------------------------------\n",
      "Benchmark for  DecisionTreeClassifier\n",
      "--------------------------------------------------------------------------------\n",
      "Training \n",
      "Done in 0.326000s\n",
      "Running Test Score\n",
      "Done in 0.007000s\n",
      "Test Score:   0.695889\n",
      "Classification report:\n",
      "             precision    recall  f1-score   support\n",
      "\n",
      "        ham       0.69      0.70      0.70      9030\n",
      "       spam       0.70      0.69      0.69      8970\n",
      "\n",
      "avg / total       0.70      0.70      0.70     18000\n",
      "\n"
     ]
    },
    {
     "data": {
      "image/png": "[encoded data removed]",
      "text/plain": [
       "<matplotlib.figure.Figure at 0x4549eb8>"
      ]
     },
     "metadata": {},
     "output_type": "display_data"
    }
   ],
   "source": [
    "benchmark(DecisionTreeClassifier(), X_train, data_train.label, X_test, data_test.label)"
   ]
  },
  {
   "cell_type": "markdown",
   "metadata": {},
   "source": [
    "##### Features nuestros"
   ]
  },
  {
   "cell_type": "code",
   "execution_count": null,
   "metadata": {
    "collapsed": false
   },
   "outputs": [
    {
     "name": "stdout",
     "output_type": "stream",
     "text": [
      "Extracting features from the training data using a BoW sparse vectorizer\n"
     ]
    }
   ],
   "source": [
    "X_train, X_test = our_features(data_train, data_test)"
   ]
  },
  {
   "cell_type": "code",
   "execution_count": null,
   "metadata": {
    "collapsed": false
   },
   "outputs": [],
   "source": [
    "benchmark(DecisionTreeClassifier(), X_train, data_train.label, X_test, data_test.label)"
   ]
  },
  {
   "cell_type": "code",
   "execution_count": null,
   "metadata": {
    "collapsed": false
   },
   "outputs": [],
   "source": []
  }
 ],
 "metadata": {
  "anaconda-cloud": {},
  "kernelspec": {
   "display_name": "Python [Root]",
   "language": "python",
   "name": "Python [Root]"
  },
  "language_info": {
   "codemirror_mode": {
    "name": "ipython",
    "version": 2
   },
   "file_extension": ".py",
   "mimetype": "text/x-python",
   "name": "python",
   "nbconvert_exporter": "python",
   "pygments_lexer": "ipython2",
   "version": "2.7.12"
  }
 },
 "nbformat": 4,
 "nbformat_minor": 0
}
