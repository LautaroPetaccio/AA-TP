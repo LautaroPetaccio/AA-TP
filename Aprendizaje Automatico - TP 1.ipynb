{
 "cells": [
  {
   "cell_type": "markdown",
   "metadata": {},
   "source": [
    "# Aprendizaje Automatico - TP 1"
   ]
  },
  {
   "cell_type": "code",
   "execution_count": 2,
   "metadata": {
    "collapsed": true
   },
   "outputs": [],
   "source": [
    "%matplotlib inline"
   ]
  },
  {
   "cell_type": "code",
   "execution_count": 3,
   "metadata": {
    "collapsed": false
   },
   "outputs": [],
   "source": [
    "import os\n",
    "import json\n",
    "import numpy as np\n",
    "import pandas as pd\n",
    "import matplotlib.pyplot as plt\n",
    "from time import time, strftime"
   ]
  },
  {
   "cell_type": "code",
   "execution_count": 4,
   "metadata": {
    "collapsed": false
   },
   "outputs": [],
   "source": [
    "from sklearn.cross_validation import train_test_split\n",
    "from sklearn.feature_extraction.text import HashingVectorizer, TfidfVectorizer, CountVectorizer, TfidfTransformer\n",
    "from sklearn.tree import DecisionTreeClassifier\n",
    "from sklearn import metrics\n",
    "from sklearn.cross_validation import cross_val_score\n",
    "from sklearn.pipeline import Pipeline\n",
    "from sklearn.externals import joblib"
   ]
  },
  {
   "cell_type": "code",
   "execution_count": 5,
   "metadata": {
    "collapsed": false
   },
   "outputs": [],
   "source": [
    "import simple_features as sf\n",
    "import email_text_retrieval as etr"
   ]
  },
  {
   "cell_type": "markdown",
   "metadata": {},
   "source": [
    "#### Funciones Auxiliares"
   ]
  },
  {
   "cell_type": "code",
   "execution_count": 6,
   "metadata": {
    "collapsed": false
   },
   "outputs": [],
   "source": [
    "def load_data(max_rows_per_class=None, test_size=0.20):\n",
    "    ham_txt = json.load(open('dataset/ham_dev.json'))\n",
    "    spam_txt = json.load(open('dataset/spam_dev.json'))\n",
    "    \n",
    "    if max_rows_per_class is not None:\n",
    "        ham_txt = ham_txt[1:max_rows_per_class]\n",
    "        spam_txt = spam_txt[1:max_rows_per_class]\n",
    "    \n",
    "    df = pd.DataFrame(ham_txt + spam_txt, columns=['text'])\n",
    "    df['label'] = ['ham' for _ in range(len(ham_txt))] + ['spam' for _ in range(len(spam_txt))]\n",
    "    return train_test_split(df, test_size=test_size)"
   ]
  },
  {
   "cell_type": "code",
   "execution_count": 7,
   "metadata": {
    "collapsed": true
   },
   "outputs": [],
   "source": [
    "def cross_validate(clf, X_train, y_train, cv_folds=5, n_jobs=4):\n",
    "    clf_descr = str(clf).split('(')[0]\n",
    "    print \"Running %d-Fold Cross Validation for %s\" % (cv_folds, clf_descr)\n",
    "    \n",
    "    t0 = time()\n",
    "    cv_scores = cross_val_score(clf, X_train, y_train, cv=cv_folds, n_jobs=n_jobs)\n",
    "    cv_time = time() - t0\n",
    "    \n",
    "    print \"Done in %fs\" % cv_time\n",
    "    print \"CV Score: mean %f std %f\" % (np.mean(cv_scores), np.std(cv_scores))"
   ]
  },
  {
   "cell_type": "code",
   "execution_count": 8,
   "metadata": {
    "collapsed": false
   },
   "outputs": [],
   "source": [
    "def extract_features(feature_extractor_tuple, dataset_tuple):\n",
    "    feature_extractor, feature_extractor_descr = feature_extractor_tuple\n",
    "    data_train, data_test = dataset_tuple\n",
    "    \n",
    "    print \"Extracting features from the training data using a %s\" % feature_extractor_descr\n",
    "    t0 = time()\n",
    "    X_train = feature_extractor.fit_transform(data_train.text)\n",
    "    duration = time() - t0    \n",
    "    print \"Done in %fs\" % duration\n",
    "    \n",
    "    print \"Extracting features from the test data using the same %s\" % feature_extractor_descr\n",
    "    t0 = time()\n",
    "    X_test = feature_extractor.transform(data_test.text)\n",
    "    duration = time() - t0    \n",
    "    print \"Done in %fs\" % duration\n",
    "   \n",
    "    print \"\"\n",
    "    \n",
    "    print \"Training Set: %d samples %d features\" % X_train.shape\n",
    "    print \"Test     Set: %d samples %d features\" % X_test.shape\n",
    "    \n",
    "    print \"\"\n",
    "    \n",
    "    return X_train, X_test, feature_extractor"
   ]
  },
  {
   "cell_type": "code",
   "execution_count": 9,
   "metadata": {
    "collapsed": true
   },
   "outputs": [],
   "source": [
    "def fit(clf_tuple, X_train, y_train):\n",
    "    clf, clf_descr = clf_tuple\n",
    "    \n",
    "    print \"Fitting a %s Classifier\" % clf_descr\n",
    "    t0 = time()\n",
    "    clf.fit(X_train, y_train)\n",
    "    train_time = time() - t0    \n",
    "    print \"Done in %fs\" % train_time\n",
    "    print \"\"    \n",
    "    \n",
    "    return clf, clf_descr"
   ]
  },
  {
   "cell_type": "code",
   "execution_count": 10,
   "metadata": {
    "collapsed": true
   },
   "outputs": [],
   "source": [
    "def benchmark(clf_tuple, X_train, y_train, X_test, y_test):\n",
    "    clf, clf_descr = clf_tuple\n",
    "    \n",
    "    print \"Running Test Score on %s\" % clf_descr\n",
    "    t0 = time()\n",
    "    pred = clf.predict(X_test)\n",
    "    test_time = time() - t0\n",
    "    \n",
    "    test_score = metrics.accuracy_score(y_test, pred)\n",
    "    print \"Done in %fs\" % test_time    \n",
    "    print \"Test Score:   %f\" % test_score\n",
    "    \n",
    "    classes = np.unique(y_test)\n",
    "\n",
    "    print \"Classification report:\"\n",
    "    print metrics.classification_report(y_test, pred, labels=classes)\n",
    "\n",
    "    plt.matshow(metrics.confusion_matrix(y_test, pred), cmap=plt.cm.binary, interpolation='nearest')\n",
    "    plt.title('Confusion matrix',)\n",
    "    plt.colorbar()\n",
    "    plt.ylabel('Expected label')\n",
    "    plt.xlabel('Predicted label')"
   ]
  },
  {
   "cell_type": "code",
   "execution_count": 18,
   "metadata": {
    "collapsed": false
   },
   "outputs": [],
   "source": [
    "def train_benchmark_and_save(feature_extractor_tuple, clf_tuple, dataset_tuple):\n",
    "    X_train, X_test, feature_extractor = extract_features(feature_extractor_tuple, dataset_tuple)\n",
    "    data_train, data_test = dataset_tuple\n",
    "    clf_tuple = fit(clf_tuple, X_train, data_train.label)    \n",
    "    benchmark(clf_tuple, X_train, data_train.label, X_test, data_test.label)\n",
    "\n",
    "    directory = 'results\\%s-%s\\%s' % (feature_extractor_tuple[1], clf_tuple[1], strftime(\"%Y%m%d-%H%M%S\"))\n",
    "    if not os.path.exists(directory):\n",
    "        os.makedirs(directory)\n",
    "\n",
    "    joblib.dump(feature_extractor, '%s\\\\extractor.pkl' % directory, compress=True)\n",
    "    joblib.dump(clf_tuple[0], '%s\\\\classifier.pkl' % directory, compress=True)\n",
    "    "
   ]
  },
  {
   "cell_type": "markdown",
   "metadata": {},
   "source": [
    "## Features"
   ]
  },
  {
   "cell_type": "markdown",
   "metadata": {},
   "source": [
    "Aca definimos distintos tipos de features para hacer las pruebas"
   ]
  },
  {
   "cell_type": "code",
   "execution_count": 12,
   "metadata": {
    "collapsed": false
   },
   "outputs": [],
   "source": [
    "def simple_features(data_train, data_test):\n",
    "    # Extraigo dos atributos simples: \n",
    "    # 1) Longitud del mail.\n",
    "    # 2) Cantidad de espacios en el mail.\n",
    "    extractors = [ ('length', len), ('count_spaces', sf.count_spaces) ]\n",
    "    feature_extractor = sf.SimpleFeaturesExtractor(extractors)\n",
    "    feature_names = [ e[0] for e in extractors ]\n",
    "\n",
    "    return feature_extractor, \"SimpleFeaturesExtractor\""
   ]
  },
  {
   "cell_type": "code",
   "execution_count": 13,
   "metadata": {
    "collapsed": false
   },
   "outputs": [],
   "source": [
    "def vectorizer_features(data_train, data_test, vectorizer_type, use_custom_tokenizer=False, **kwargs):\n",
    "    tokenizer = etr.LemmaTokenizer() if use_custom_tokenizer else None    \n",
    "    if vectorizer_type == \"count\":\n",
    "        vectorizer = CountVectorizer(tokenizer=tokenizer, stop_words='english', **kwargs)\n",
    "        vectorizer_descr = \"BagOfWords\"        \n",
    "    elif vectorizer_type == \"tfidf\":\n",
    "        vectorizer = TfidfVectorizer(tokenizer=tokenizer, stop_words='english', **kwargs)\n",
    "        vectorizer_descr = \"TfIdf\"\n",
    "    elif vectorizer_type == \"hashing\":\n",
    "        vectorizer = HashingVectorizer(tokenizer=tokenizer, stop_words='english', **kwargs)\n",
    "        vectorizer_descr = \"HashingBagOfWords\"\n",
    "    else:\n",
    "        raise ValueError('Invalid vectorizer_type. Expected \\'count\\', \\'tfidf\\' or \\'hashing\\'')\n",
    "    \n",
    "    return vectorizer, \"%sSparseVectorizer\" % vectorizer_descr"
   ]
  },
  {
   "cell_type": "markdown",
   "metadata": {},
   "source": [
    "## Experimentacion"
   ]
  },
  {
   "cell_type": "markdown",
   "metadata": {},
   "source": [
    "### Carga de datos"
   ]
  },
  {
   "cell_type": "markdown",
   "metadata": {},
   "source": [
    "Cargamos y spliteamos el dataset"
   ]
  },
  {
   "cell_type": "code",
   "execution_count": 14,
   "metadata": {
    "collapsed": false,
    "scrolled": false
   },
   "outputs": [
    {
     "name": "stdout",
     "output_type": "stream",
     "text": [
      "Training Set: 72000 samples (522.824MB)\n",
      "Test Set:     18000 samples (142.965MB)\n"
     ]
    }
   ],
   "source": [
    "data_train, data_test = load_data(test_size=0.20)\n",
    "print \"Training Set: %d samples (%0.3fMB)\" % (len(data_train), sum(len(m.encode('utf-8')) for m in data_train.text) / 1e6)\n",
    "print \"Test Set:     %d samples (%0.3fMB)\" % (len(data_test), sum(len(m.encode('utf-8')) for m in data_test.text) / 1e6)"
   ]
  },
  {
   "cell_type": "markdown",
   "metadata": {},
   "source": [
    "### Pruebas de Features"
   ]
  },
  {
   "cell_type": "markdown",
   "metadata": {},
   "source": [
    "Aca probamos distintos tipos de features. Mediante la funcion 'train_benchmark_and_save' entrenamos, benchmarkeamos y grabamos en disco los resultados y modelos de cada combinacion que decidimos probar"
   ]
  },
  {
   "cell_type": "markdown",
   "metadata": {},
   "source": [
    "#### Features del Baseline Example"
   ]
  },
  {
   "cell_type": "code",
   "execution_count": 15,
   "metadata": {
    "collapsed": false
   },
   "outputs": [
    {
     "name": "stdout",
     "output_type": "stream",
     "text": [
      "Extracting features from the training data using a SimpleFeaturesExtractor\n",
      "Done in 0.520000s\n",
      "Extracting features from the test data using the same SimpleFeaturesExtractor\n",
      "Done in 0.125000s\n",
      "\n",
      "Training Set: 72000 samples 2 features\n",
      "Test     Set: 18000 samples 2 features\n",
      "\n",
      "Fitting a DecisionTree Classifier\n",
      "Done in 0.167000s\n",
      "\n",
      "Running Test Score on DecisionTree\n",
      "Done in 0.004000s\n",
      "Test Score:   0.695000\n",
      "Classification report:\n",
      "             precision    recall  f1-score   support\n",
      "\n",
      "        ham       0.69      0.71      0.70      8944\n",
      "       spam       0.70      0.68      0.69      9056\n",
      "\n",
      "avg / total       0.70      0.69      0.69     18000\n",
      "\n"
     ]
    },
    {
     "data": {
      "image/png": "[encoded data removed]",
      "text/plain": [
       "<matplotlib.figure.Figure at 0xc296eb8>"
      ]
     },
     "metadata": {},
     "output_type": "display_data"
    }
   ],
   "source": [
    "train_benchmark_and_save(\n",
    "    simple_features(data_train, data_test), \n",
    "    (DecisionTreeClassifier(), 'DecisionTree'), \n",
    "    (data_train, data_test))"
   ]
  },
  {
   "cell_type": "markdown",
   "metadata": {},
   "source": [
    "##### Distintos tipos de Features nuestros"
   ]
  },
  {
   "cell_type": "code",
   "execution_count": 19,
   "metadata": {
    "collapsed": false,
    "scrolled": true
   },
   "outputs": [
    {
     "name": "stdout",
     "output_type": "stream",
     "text": [
      "Extracting features from the training data using a BagOfWordsSparseVectorizer\n",
      "Done in 71.906000s\n",
      "Extracting features from the test data using the same BagOfWordsSparseVectorizer\n",
      "Done in 10.161000s\n",
      "\n",
      "Training Set: 72000 samples 5963342 features\n",
      "Test     Set: 18000 samples 5963342 features\n",
      "\n",
      "Fitting a DecisionTree Classifier\n",
      "Done in 150.159000s\n",
      "\n",
      "Running Test Score on DecisionTree\n",
      "Done in 0.062000s\n",
      "Test Score:   0.994556\n",
      "Classification report:\n",
      "             precision    recall  f1-score   support\n",
      "\n",
      "        ham       0.99      1.00      0.99      8944\n",
      "       spam       1.00      0.99      0.99      9056\n",
      "\n",
      "avg / total       0.99      0.99      0.99     18000\n",
      "\n"
     ]
    },
    {
     "data": {
      "image/png": "[encoded data removed]",
      "text/plain": [
       "<matplotlib.figure.Figure at 0x136dee710>"
      ]
     },
     "metadata": {},
     "output_type": "display_data"
    }
   ],
   "source": [
    "train_benchmark_and_save(\n",
    "    vectorizer_features(data_train, data_test, 'count', use_custom_tokenizer=False), \n",
    "    (DecisionTreeClassifier(), 'DecisionTree'), \n",
    "    (data_train, data_test))"
   ]
  },
  {
   "cell_type": "code",
   "execution_count": 16,
   "metadata": {
    "collapsed": false
   },
   "outputs": [
    {
     "name": "stdout",
     "output_type": "stream",
     "text": [
      "Extracting features from the training data using a TfIdfSparseVectorizer\n",
      "Done in 74.838000s\n",
      "Extracting features from the test data using the same TfIdfSparseVectorizer\n",
      "Done in 11.993000s\n",
      "\n",
      "Training Set: 72000 samples 2408 features\n",
      "Test     Set: 18000 samples 2408 features\n",
      "\n",
      "Fitting a DecisionTree Classifier\n",
      "Done in 10.664000s\n",
      "\n",
      "Running Test Score on DecisionTree\n",
      "Done in 0.016000s\n",
      "Test Score:   0.992056\n",
      "Classification report:\n",
      "             precision    recall  f1-score   support\n",
      "\n",
      "        ham       0.99      0.99      0.99      8980\n",
      "       spam       0.99      0.99      0.99      9020\n",
      "\n",
      "avg / total       0.99      0.99      0.99     18000\n",
      "\n"
     ]
    },
    {
     "data": {
      "image/png": "[encoded data removed]",
      "text/plain": [
       "<matplotlib.figure.Figure at 0x3fa2ef0>"
      ]
     },
     "metadata": {},
     "output_type": "display_data"
    }
   ],
   "source": [
    "train_benchmark_and_save(\n",
    "    vectorizer_features(data_train, data_test, 'tfidf', use_custom_tokenizer=False, sublinear_tf=True, min_df=0.01, max_df=0.7), \n",
    "    (DecisionTreeClassifier(), 'DecisionTree'), \n",
    "    (data_train, data_test))"
   ]
  },
  {
   "cell_type": "code",
   "execution_count": 17,
   "metadata": {
    "collapsed": false
   },
   "outputs": [
    {
     "name": "stdout",
     "output_type": "stream",
     "text": [
      "Extracting features from the training data using a HashingBagOfWordsSparseVectorizer\n",
      "Done in 45.258000s\n",
      "Extracting features from the test data using the same HashingBagOfWordsSparseVectorizer\n",
      "Done in 11.658000s\n",
      "\n",
      "Training Set: 72000 samples 262144 features\n",
      "Test     Set: 18000 samples 262144 features\n",
      "\n",
      "Fitting a DecisionTree Classifier\n",
      "Done in 49.250000s\n",
      "\n",
      "Running Test Score on DecisionTree\n",
      "Done in 0.046000s\n",
      "Test Score:   0.992056\n",
      "Classification report:\n",
      "             precision    recall  f1-score   support\n",
      "\n",
      "        ham       0.99      0.99      0.99      8965\n",
      "       spam       0.99      0.99      0.99      9035\n",
      "\n",
      "avg / total       0.99      0.99      0.99     18000\n",
      "\n"
     ]
    },
    {
     "data": {
      "image/png": "[encoded data removed]",
      "text/plain": [
       "<matplotlib.figure.Figure at 0x1db26d8>"
      ]
     },
     "metadata": {},
     "output_type": "display_data"
    }
   ],
   "source": [
    "train_benchmark_and_save(\n",
    "    vectorizer_features(data_train, data_test, 'hashing', use_custom_tokenizer=False, non_negative=True, n_features=2 ** 18), \n",
    "    (DecisionTreeClassifier(), 'DecisionTree'), \n",
    "    (data_train, data_test))"
   ]
  },
  {
   "cell_type": "code",
   "execution_count": null,
   "metadata": {
    "collapsed": false
   },
   "outputs": [],
   "source": [
    "### Este no lo corro porque tarda años\n",
    "train_benchmark_and_save(\n",
    "    vectorizer_features(data_train, data_test, 'count', use_custom_tokenizer=True), \n",
    "    (DecisionTreeClassifier(), 'DecisionTree'), \n",
    "    (data_train, data_test))"
   ]
  },
  {
   "cell_type": "code",
   "execution_count": 19,
   "metadata": {
    "collapsed": false
   },
   "outputs": [
    {
     "name": "stdout",
     "output_type": "stream",
     "text": [
      "Extracting features from the training data using a TfIdfSparseVectorizer\n",
      "Done in 26506.078000s\n",
      "Extracting features from the test data using the same TfIdfSparseVectorizer\n",
      "Done in 165.881000s\n",
      "\n",
      "Training Set: 72000 samples 2179 features\n",
      "Test     Set: 18000 samples 2179 features\n",
      "\n",
      "Fitting a DecisionTree Classifier\n",
      "Done in 12.026000s\n",
      "\n",
      "Running Test Score on DecisionTree\n",
      "Done in 0.015000s\n",
      "Test Score:   0.990278\n",
      "Classification report:\n",
      "             precision    recall  f1-score   support\n",
      "\n",
      "        ham       0.99      0.99      0.99      8980\n",
      "       spam       0.99      0.99      0.99      9020\n",
      "\n",
      "avg / total       0.99      0.99      0.99     18000\n",
      "\n"
     ]
    },
    {
     "data": {
      "image/png": "[encoded data removed]",
      "text/plain": [
       "<matplotlib.figure.Figure at 0x7abe0b8>"
      ]
     },
     "metadata": {},
     "output_type": "display_data"
    }
   ],
   "source": [
    "train_benchmark_and_save(\n",
    "    vectorizer_features(data_train, data_test, 'tfidf', use_custom_tokenizer=True, sublinear_tf=True, min_df=0.01, max_df=0.7), \n",
    "    (DecisionTreeClassifier(), 'DecisionTree'), \n",
    "    (data_train, data_test))"
   ]
  },
  {
   "cell_type": "code",
   "execution_count": 20,
   "metadata": {
    "collapsed": false
   },
   "outputs": [
    {
     "name": "stdout",
     "output_type": "stream",
     "text": [
      "Extracting features from the training data using a HashingBagOfWordsSparseVectorizer\n",
      "Done in 26503.592000s\n",
      "Extracting features from the test data using the same HashingBagOfWordsSparseVectorizer\n",
      "Done in 164.190000s\n",
      "\n",
      "Training Set: 72000 samples 262144 features\n",
      "Test     Set: 18000 samples 262144 features\n",
      "\n",
      "Fitting a DecisionTree Classifier\n",
      "Done in 36.783000s\n",
      "\n",
      "Running Test Score on DecisionTree\n",
      "Done in 0.032000s\n",
      "Test Score:   0.993056\n",
      "Classification report:\n",
      "             precision    recall  f1-score   support\n",
      "\n",
      "        ham       0.99      0.99      0.99      8965\n",
      "       spam       0.99      0.99      0.99      9035\n",
      "\n",
      "avg / total       0.99      0.99      0.99     18000\n",
      "\n"
     ]
    },
    {
     "data": {
      "image/png": "[encoded data removed]",
      "text/plain": [
       "<matplotlib.figure.Figure at 0x24065c50>"
      ]
     },
     "metadata": {},
     "output_type": "display_data"
    }
   ],
   "source": [
    "train_benchmark_and_save(\n",
    "    vectorizer_features(data_train, data_test, 'hashing', use_custom_tokenizer=True, non_negative=True, n_features=2 ** 18), \n",
    "    (DecisionTreeClassifier(), 'DecisionTree'), \n",
    "    (data_train, data_test))"
   ]
  }
 ],
 "metadata": {
  "anaconda-cloud": {},
  "kernelspec": {
   "display_name": "Python [Root]",
   "language": "python",
   "name": "Python [Root]"
  },
  "language_info": {
   "codemirror_mode": {
    "name": "ipython",
    "version": 2
   },
   "file_extension": ".py",
   "mimetype": "text/x-python",
   "name": "python",
   "nbconvert_exporter": "python",
   "pygments_lexer": "ipython2",
   "version": "2.7.12"
  }
 },
 "nbformat": 4,
 "nbformat_minor": 0
}
