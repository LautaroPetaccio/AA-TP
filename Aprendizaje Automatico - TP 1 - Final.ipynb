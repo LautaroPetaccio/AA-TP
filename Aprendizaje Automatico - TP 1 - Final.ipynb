{
 "cells": [
  {
   "cell_type": "markdown",
   "metadata": {},
   "source": [
    "# Aprendizaje Automatico - TP 1"
   ]
  },
  {
   "cell_type": "code",
   "execution_count": 1,
   "metadata": {
    "collapsed": true
   },
   "outputs": [],
   "source": [
    "%matplotlib inline"
   ]
  },
  {
   "cell_type": "code",
   "execution_count": 2,
   "metadata": {
    "collapsed": true
   },
   "outputs": [],
   "source": [
    "import os"
   ]
  },
  {
   "cell_type": "code",
   "execution_count": 3,
   "metadata": {
    "collapsed": false
   },
   "outputs": [],
   "source": [
    "import numpy as np\n",
    "from scipy.sparse import coo_matrix\n",
    "import pandas as pd\n",
    "import matplotlib.pyplot as plt\n",
    "pd.options.display.float_format = '{:g}'.format\n",
    "plt.rcParams['figure.figsize'] = 14, 5"
   ]
  },
  {
   "cell_type": "code",
   "execution_count": 4,
   "metadata": {
    "collapsed": false
   },
   "outputs": [],
   "source": [
    "from sklearn.pipeline import Pipeline, FeatureUnion\n",
    "from sklearn.feature_extraction.text import TfidfVectorizer\n",
    "from sklearn.feature_selection import SelectKBest, chi2, RFE, SelectFromModel\n",
    "from sklearn.svm import LinearSVC\n",
    "from sklearn.decomposition import TruncatedSVD\n",
    "\n",
    "from sklearn.tree import DecisionTreeClassifier\n",
    "from sklearn.ensemble import RandomForestClassifier, VotingClassifier\n",
    "from sklearn.naive_bayes import BernoulliNB, MultinomialNB\n",
    "from sklearn.neighbors import KNeighborsClassifier\n",
    "from sklearn.svm import SVC\n",
    "\n",
    "from sklearn.cross_validation import cross_val_score\n",
    "from sklearn.metrics import accuracy_score, classification_report, confusion_matrix"
   ]
  },
  {
   "cell_type": "code",
   "execution_count": 5,
   "metadata": {
    "collapsed": false,
    "scrolled": true
   },
   "outputs": [
    {
     "name": "stderr",
     "output_type": "stream",
     "text": [
      "C:\\Software\\Development\\Anaconda2\\lib\\site-packages\\nltk\\twitter\\__init__.py:20: UserWarning: The twython library has not been installed. Some functionality from the twitter package will not be available.\n",
      "  warnings.warn(\"The twython library has not been installed. \"\n"
     ]
    }
   ],
   "source": [
    "import features as cf\n",
    "from util import *"
   ]
  },
  {
   "cell_type": "markdown",
   "metadata": {},
   "source": [
    "Cargamos el dataset, lo convertimos a un pandas DataFrame y separamos en set de entrenamiento y de test"
   ]
  },
  {
   "cell_type": "code",
   "execution_count": 6,
   "metadata": {
    "collapsed": false,
    "scrolled": true
   },
   "outputs": [
    {
     "name": "stdout",
     "output_type": "stream",
     "text": [
      "Loading Train Set\n",
      "Done in 0.931000s\n",
      "\n",
      "Loading Test Set\n",
      "Done in 0.230000s\n",
      "\n"
     ]
    }
   ],
   "source": [
    "# Por reproducibilidad, y para no perder tiempo armando el DataFrame cada vez, lo bajamos a\n",
    "# un archivo la priemra vez que lo corrimos, ya seprando 20% para reportar como valor final\n",
    "# de nuestro modelo\n",
    "train_set_name = 'dataset/train_set.pkl'\n",
    "test_set_name = 'dataset/test_set.pkl'\n",
    "train_set = None\n",
    "test_set = None\n",
    "\n",
    "if os.path.isfile(train_set_name) and os.path.isfile(test_set_name):\n",
    "    print 'Loading Train Set'\n",
    "    train_set = print_time(lambda: joblib.load(train_set_name))\n",
    "    print ''\n",
    "        \n",
    "    print 'Loading Test Set'\n",
    "    test_set = print_time(lambda: joblib.load(test_set_name))\n",
    "    print ''\n",
    "else:\n",
    "    train_set, test_set = load_raw_data()\n",
    "    print ''\n",
    "    \n",
    "    print 'Saving Train Set'\n",
    "    print_time(lambda: joblib.dump(train_set, train_set_name, compress=True))\n",
    "    print ''\n",
    "    \n",
    "    print 'Saving Test Set'\n",
    "    print_time(lambda: joblib.dump(test_set, test_set_name, compress=True))\n",
    "    print ''"
   ]
  },
  {
   "cell_type": "code",
   "execution_count": 7,
   "metadata": {
    "collapsed": false
   },
   "outputs": [
    {
     "name": "stdout",
     "output_type": "stream",
     "text": [
      "Train Set: 72000 samples - ham: 35997(0.50%) spam: 36003(0.50%)\n",
      "Test Set:  18000 samples - ham: 9003(0.50%) spam: 8997(0.50%)\n"
     ]
    }
   ],
   "source": [
    "print_sets_summarys(train_set, test_set)"
   ]
  },
  {
   "cell_type": "markdown",
   "metadata": {},
   "source": [
    "## Exploración de datos\n",
    "\n",
    "Vamos a explorar un poco los datos. Primero inspeccionamos los primeros mails del set de entrenamiento, para ver que pinta tienen."
   ]
  },
  {
   "cell_type": "code",
   "execution_count": 8,
   "metadata": {
    "collapsed": false,
    "scrolled": true
   },
   "outputs": [
    {
     "data": {
      "text/html": [
       "<div>\n",
       "<table border=\"1\" class=\"dataframe\">\n",
       "  <thead>\n",
       "    <tr style=\"text-align: right;\">\n",
       "      <th></th>\n",
       "      <th>content_types</th>\n",
       "      <th>subject</th>\n",
       "      <th>body</th>\n",
       "      <th>label</th>\n",
       "    </tr>\n",
       "  </thead>\n",
       "  <tbody>\n",
       "    <tr>\n",
       "      <th>0</th>\n",
       "      <td>[text/html]</td>\n",
       "      <td>penny st0ck booms on continued demand</td>\n",
       "      <td>\\r\\n\\r\\n\\r\\n\\r\\n\\r\\npenny st0ck booms on conti...</td>\n",
       "      <td>spam</td>\n",
       "    </tr>\n",
       "    <tr>\n",
       "      <th>1</th>\n",
       "      <td>[text/plain]</td>\n",
       "      <td>RE: BNP Paribas Master Netting Agreement</td>\n",
       "      <td>The receivables deal has been terminated. Feel...</td>\n",
       "      <td>ham</td>\n",
       "    </tr>\n",
       "    <tr>\n",
       "      <th>2</th>\n",
       "      <td>[text/plain]</td>\n",
       "      <td>I NEED YOU TO ACT AS THE NEXT OF KIN TO LATE M...</td>\n",
       "      <td>\\n\\n \\n \\nATTN:THE DIRECTOR /CEO,\\n\\nAN URGENT...</td>\n",
       "      <td>spam</td>\n",
       "    </tr>\n",
       "    <tr>\n",
       "      <th>3</th>\n",
       "      <td>[text/plain]</td>\n",
       "      <td>WTI-Brent</td>\n",
       "      <td>Jeff -\\nDon't know if WTI-Brent is on the new ...</td>\n",
       "      <td>ham</td>\n",
       "    </tr>\n",
       "    <tr>\n",
       "      <th>4</th>\n",
       "      <td>[text/plain]</td>\n",
       "      <td>Mrs maureen clark</td>\n",
       "      <td>\\nDear Beloved in Christ,\\n\\nIt is by the grac...</td>\n",
       "      <td>spam</td>\n",
       "    </tr>\n",
       "  </tbody>\n",
       "</table>\n",
       "</div>"
      ],
      "text/plain": [
       "  content_types                                            subject  \\\n",
       "0   [text/html]              penny st0ck booms on continued demand   \n",
       "1  [text/plain]           RE: BNP Paribas Master Netting Agreement   \n",
       "2  [text/plain]  I NEED YOU TO ACT AS THE NEXT OF KIN TO LATE M...   \n",
       "3  [text/plain]                                          WTI-Brent   \n",
       "4  [text/plain]                                  Mrs maureen clark   \n",
       "\n",
       "                                                body label  \n",
       "0  \\r\\n\\r\\n\\r\\n\\r\\n\\r\\npenny st0ck booms on conti...  spam  \n",
       "1  The receivables deal has been terminated. Feel...   ham  \n",
       "2  \\n\\n \\n \\nATTN:THE DIRECTOR /CEO,\\n\\nAN URGENT...  spam  \n",
       "3  Jeff -\\nDon't know if WTI-Brent is on the new ...   ham  \n",
       "4  \\nDear Beloved in Christ,\\n\\nIt is by the grac...  spam  "
      ]
     },
     "execution_count": 8,
     "metadata": {},
     "output_type": "execute_result"
    }
   ],
   "source": [
    "train_set.head()"
   ]
  },
  {
   "cell_type": "markdown",
   "metadata": {},
   "source": [
    "Ahora, generaremos la matriz de atributos (unigramas y bigramas) TF-IDF sobre el cuerpo de los mails, y usando dos técnicas de selección de atributos, visualizaremos los 2 atributos más importantes. Las técnicas son:\n",
    "    - Elegir los 2 atributos que son mas probables(segun un test chi2) que sean dependientes de la etiqueta\n",
    "    - Entrenar un clasificador SVM lineal con penalización L1(fuerza esparcidad, gran cantidad de pesos en 0), y elegir los 2 atributos que mas importancia tengan\n",
    "Para visualizar, mostramos un gráfico con el valor de cada uno de los 2 atributos en los ejes, y la clase como color. Tambien mostramos un histograma para cada uno de estos 2 atributos, agrupando por la clase."
   ]
  },
  {
   "cell_type": "code",
   "execution_count": 9,
   "metadata": {
    "collapsed": false
   },
   "outputs": [],
   "source": [
    "def plot_2_best_features(feature_selector_type, tokens, token_names, labels):\n",
    "    if feature_selector_type == 'k_best':\n",
    "        transformer = SelectKBest(chi2, k=2)\n",
    "        selected_tokens = transformer.fit_transform(tokens, labels)\n",
    "        feature1_name, feature2_name = [token_names[i] for i in transformer.get_support(indices=True)]\n",
    "    elif feature_selector_type == 'l1':\n",
    "        svc = LinearSVC(penalty=\"l1\", dual=False).fit(tokens, labels)\n",
    "        ind = np.argpartition(svc.coef_[0], -2)[-2:]\n",
    "        ind = ind[np.argsort(svc.coef_[0, ind])][::-1]\n",
    "        selected_tokens = tokens[:, ind]\n",
    "        feature1_name, feature2_name = [token_names[i] for i in ind]\n",
    "    else:\n",
    "        raise ValueError('Invalid feature_selector_type. Expected \\'k_best\\' or \\'l1\\'')\n",
    "\n",
    "    title = 'Features selected using %s' % feature_selector_type\n",
    "    \n",
    "    df = pd.DataFrame(selected_tokens.todense(), columns=[feature1_name, feature2_name])\n",
    "    df['label'] = labels\n",
    "    \n",
    "    df.plot(kind='scatter',\n",
    "            x=feature1_name,\n",
    "            y=feature2_name,\n",
    "            figsize=(10, 5),\n",
    "            title=title,\n",
    "            c=['blue' if label == 'ham' else 'red' for label in labels])\n",
    "    \n",
    "    #df = df.sample(1000)\n",
    "    \n",
    "    fig, axs = plt.subplots(ncols=2)\n",
    "    title = 'Feature \\'%s\\' frequency by class in 1000 random samples'\n",
    "    \n",
    "    df.groupby('label')[feature1_name].plot(kind='hist',\n",
    "                                            ax=axs[0],\n",
    "                                            title=title % feature1_name,\n",
    "                                            legend=True, alpha=0.4)\n",
    "    df.groupby('label')[feature2_name].plot(kind='hist',\n",
    "                                            ax=axs[1],\n",
    "                                            title=title % feature2_name,\n",
    "                                            legend=True, alpha=0.4)\n",
    "    fig.show()\n",
    "    \n",
    "\n",
    "def show_selectors_bests_features(X):\n",
    "    tfidf = TfidfVectorizer(stop_words='english',\n",
    "                                    ngram_range=(1, 2),\n",
    "                                    strip_accents='ascii',\n",
    "                                    sublinear_tf=True)\n",
    "    tokens = tfidf.fit_transform(X.body)\n",
    "    token_names = tfidf.get_feature_names()\n",
    "    plot_2_best_features('k_best', tokens, token_names, X.label)\n",
    "    plot_2_best_features('l1', tokens, token_names, X.label)"
   ]
  },
  {
   "cell_type": "code",
   "execution_count": 28,
   "metadata": {
    "collapsed": false,
    "scrolled": true
   },
   "outputs": [
    {
     "data": {
      "image/png": "[encoded data removed]",
      "text/plain": [
       "<matplotlib.figure.Figure at 0xc8242390>"
      ]
     },
     "metadata": {},
     "output_type": "display_data"
    },
    {
     "data": {
      "image/png": "[encoded data removed]",
      "text/plain": [
       "<matplotlib.figure.Figure at 0xc8242470>"
      ]
     },
     "metadata": {},
     "output_type": "display_data"
    },
    {
     "data": {
      "image/png": "[encoded data removed]",
      "text/plain": [
       "<matplotlib.figure.Figure at 0x2716d898>"
      ]
     },
     "metadata": {},
     "output_type": "display_data"
    },
    {
     "data": {
      "image/png": "[encoded data removed]",
      "text/plain": [
       "<matplotlib.figure.Figure at 0xfff291d0>"
      ]
     },
     "metadata": {},
     "output_type": "display_data"
    }
   ],
   "source": [
    "show_selectors_bests_features(train_set)"
   ]
  },
  {
   "cell_type": "markdown",
   "metadata": {},
   "source": [
    "### TODO: Alguna conclusión sobre lo que estos graficos nos dicen"
   ]
  },
  {
   "cell_type": "markdown",
   "metadata": {},
   "source": [
    "## Atributos\n",
    "\n",
    "Definimos los siguientes atributos a ser extraidos de cada mail:\n",
    "1. Atributos simples:\n",
    "    - Longitud del asunto\n",
    "    - Cantidad de espacios en el asunto dividido por la longitud del asunto\n",
    "    - Cantidad de caracteres mayusculas en el asunto dividido por la longitud del asunto\n",
    "    - Longitud del cuerpo\n",
    "    - Cantidad de espacios en el cuerpo dividido por la longitud del cuerpo\n",
    "    - Cantidad de caracteres mayusculas en el cuerpo dividido por la longitud del cuerpo\n",
    "    - Cantidad de oraciones del cuerpo\n",
    "    - Tiene el mail contenido HTML?\n",
    "    - Tiene el mail imágenes?\n",
    "2. Atributos de vectorizacion del asunto: cantidad de apariciones por token dividido por la cantidad de documentos en los que aparece(TF-IDF)\n",
    "3. Atributos de vectorizacion del cuerpo: cantidad de apariciones por token dividido por la cantidad de documentos en los que aparece(TF-IDF)"
   ]
  },
  {
   "cell_type": "code",
   "execution_count": 10,
   "metadata": {
    "collapsed": false
   },
   "outputs": [],
   "source": [
    "def build_simple_extractors():\n",
    "    return ('simple_features', cf.SimpleFeaturesExtractor([('subject_length', cf.subject_length), \n",
    "        ('subject_spaces', cf.subject_spaces), \n",
    "        ('subject_caps', cf.subject_caps),\n",
    "        ('body_length', cf.body_length), \n",
    "        ('body_spaces', cf.body_spaces), \n",
    "        ('body_caps', cf.body_caps), \n",
    "        ('body_sentences', cf.body_sentences),\n",
    "        ('has_html', cf.has_html), \n",
    "        ('has_image', cf.has_image)\n",
    "      ]))\n",
    "\n",
    "def build_vectorizer_extractor(**kwargs):\n",
    "    return ('tfidf', TfidfVectorizer(stop_words='english', strip_accents='ascii', sublinear_tf=True, **kwargs))"
   ]
  },
  {
   "cell_type": "markdown",
   "metadata": {
    "collapsed": true
   },
   "source": [
    "## Reducción de dimensionalidad\n",
    "\n",
    "Utilizaremos las técnicas de selección de atributos mencionadas en la sección de exploración de datos, y también agregaremos el método de Analisis de Componentes Principales para reducción de dimensionalidad."
   ]
  },
  {
   "cell_type": "code",
   "execution_count": 11,
   "metadata": {
    "collapsed": true
   },
   "outputs": [],
   "source": [
    "def build_dimensionality_reductor(reductor_type, **kwargs):\n",
    "    if reductor_type is None:\n",
    "        return None\n",
    "    elif reductor_type == 'k_best':\n",
    "        return ('k_best', SelectKBest(chi2, **kwargs))\n",
    "    elif reductor_type == 'l1':\n",
    "        return ('l1', SelectFromModel(**kwargs))\n",
    "    elif reductor_type == 'pca':\n",
    "        return ('pca', TruncatedSVD(**kwargs))"
   ]
  },
  {
   "cell_type": "code",
   "execution_count": 12,
   "metadata": {
    "collapsed": true
   },
   "outputs": [],
   "source": [
    "def build_subject_pipeline(pipeline_type):\n",
    "    pipeline = [('selector', ColumnSelectorExtractor('subject'))]\n",
    "    if pipeline_type == 'tfidf':\n",
    "        pipeline.append(build_vectorizer_extractor(ngram_range=(1, 2), min_df=0.001, max_df=0.7))\n",
    "    else:\n",
    "        pipeline.append(build_vectorizer_extractor(ngram_range=(1, 2), min_df=0.0001, max_df=0.95))\n",
    "\n",
    "        if pipeline_type == 'k_best':\n",
    "            pipeline.append(build_dimensionality_reductor(pipeline_type, k=20))\n",
    "        elif pipeline_type == 'l1':\n",
    "            pipeline.append(build_dimensionality_reductor(pipeline_type, estimator=LinearSVC(penalty=\"l1\", dual=False, C=1.0)))\n",
    "        elif pipeline_type == 'pca':\n",
    "            pipeline.append(build_dimensionality_reductor(pipeline_type, n_components=20))\n",
    "        else:\n",
    "            return None\n",
    "    return ('subject', Pipeline(pipeline))\n",
    "\n",
    "def build_body_pipeline(pipeline_type):\n",
    "    pipeline = [('selector', ColumnSelectorExtractor('body'))]\n",
    "    if pipeline_type == 'tfidf':\n",
    "        pipeline.append(build_vectorizer_extractor(ngram_range=(1, 1), min_df=0.001, max_df=0.7))\n",
    "    else:\n",
    "        pipeline.append(build_vectorizer_extractor(ngram_range=(1, 1), min_df=0.0001, max_df=0.95))\n",
    "\n",
    "        if pipeline_type == 'k_best':\n",
    "            pipeline.append(build_dimensionality_reductor(pipeline_type,  k=50))\n",
    "        elif pipeline_type == 'l1':\n",
    "            pipeline.append(build_dimensionality_reductor(pipeline_type, estimator=LinearSVC(penalty=\"l1\", dual=False, C=5.0)))\n",
    "        elif pipeline_type == 'pca':\n",
    "            pipeline.append(build_dimensionality_reductor(pipeline_type, n_components=50))\n",
    "        else:\n",
    "            return None\n",
    "    return ('body', Pipeline(pipeline))"
   ]
  },
  {
   "cell_type": "markdown",
   "metadata": {},
   "source": [
    "## Modelos\n",
    "\n",
    "Los algoritmos de aprendizaje para clasificación con los que probaremos son:\n",
    "### TODO: Completar con los clasificadores\n"
   ]
  },
  {
   "cell_type": "code",
   "execution_count": 13,
   "metadata": {
    "collapsed": false
   },
   "outputs": [],
   "source": [
    "def build_classifier(classifier_type, **kwargs):\n",
    "    classifier_dict = {'dt': DecisionTreeClassifier(**kwargs),\n",
    "                  'random_forest': RandomForestClassifier(**kwargs), \n",
    "                  'bernoulli_nb': BernoulliNB(**kwargs),\n",
    "                  'multinomial_nb': MultinomialNB(**kwargs), \n",
    "                  'knn': KNeighborsClassifier(**kwargs), \n",
    "                  'svm': SVC(**kwargs)}\n",
    "    \n",
    "    if not classifier_type in classifier_dict:\n",
    "        return None\n",
    "    \n",
    "    return (classifier_type, classifier_dict[classifier_type])"
   ]
  },
  {
   "cell_type": "markdown",
   "metadata": {},
   "source": [
    "## Ejecución y puntuación de cada pipeline\n",
    "\n",
    "### TODO: Completar con un texto\n",
    "Ahora vamos a correr todos los modelos posibles que tienen sentido..."
   ]
  },
  {
   "cell_type": "code",
   "execution_count": 14,
   "metadata": {
    "collapsed": false
   },
   "outputs": [],
   "source": [
    "def build_pipeline(simple_features=True, subject_pipeline_type=None, body_pipeline_type=None, classifier_type=None):\n",
    "    extractors = []\n",
    "    names = []\n",
    "    \n",
    "    if simple_features is not None:\n",
    "        # Extractor de atributos simples\n",
    "        extractors.append(build_simple_extractors())\n",
    "        names.append('simple_features')\n",
    "\n",
    "    if subject_pipeline_type is not None:\n",
    "        # Pipeline para extraer atributos de vectorizacion del asunto del mail\n",
    "        extractors.append(build_subject_pipeline(subject_pipeline_type))\n",
    "        names.append('subject_%s' % subject_pipeline_type)\n",
    "        \n",
    "    if body_pipeline_type is not None:\n",
    "        # Pipeline para extraer atributos de vectorizacion del cuerpo del mail\n",
    "        extractors.append(build_body_pipeline(body_pipeline_type))\n",
    "        names.append('body_%s' % body_pipeline_type)\n",
    "\n",
    "    extractors_count = len(extractors)\n",
    "    if extractors_count == 0 or \\\n",
    "        ((subject_pipeline_type == 'pca' or body_pipeline_type == 'pca') and \\\n",
    "         (classifier_type in ['bernoulli_nb', 'multinomial_nb', 'ensemble'])): \n",
    "        return None\n",
    "\n",
    "    if classifier_type is not None:\n",
    "        # Usamos FeatureUnion para combinar los distintos extractores de atributos\n",
    "        names.append(classifier_type)\n",
    "        return '__'.join(names), Pipeline([('feature_extractors', FeatureUnion(extractors)), build_classifier(classifier_type)])\n",
    "    else:\n",
    "        return None\n",
    "\n",
    "def build_all_pipelines():\n",
    "    classifier_types = ['dt', 'random_forest', 'bernoulli_nb', 'multinomial_nb', 'knn', 'svm']\n",
    "    pipelines = []\n",
    "    for simple_features in [True, False]:\n",
    "        for subject_pipeline_type in [None, 'tfidf', 'k_best', 'l1', 'pca']:\n",
    "            for body_pipeline_type in [None, 'tfidf', 'k_best', 'l1', 'pca']:\n",
    "                for classifier_type in classifier_types:\n",
    "                    pipeline_tuple = build_pipeline(simple_features=simple_features,\n",
    "                                         subject_pipeline_type=subject_pipeline_type,\n",
    "                                         body_pipeline_type=body_pipeline_type,\n",
    "                                         classifier_type=classifier_type)\n",
    "                    if pipeline_tuple is not None:\n",
    "                        pipelines.append(pipeline_tuple)\n",
    "    \n",
    "    return pipelines"
   ]
  },
  {
   "cell_type": "code",
   "execution_count": 15,
   "metadata": {
    "collapsed": false
   },
   "outputs": [],
   "source": [
    "def evaluate_and_meassure(X, cv=10, n_jobs=1, verbose=0, force_run=False):\n",
    "    if not os.path.exists('results'):\n",
    "        os.makedirs('results')\n",
    "        \n",
    "    scores_name = 'results/scores.pkl'\n",
    "    cv_times_name = 'results/cv_times.pkl'\n",
    "    \n",
    "    pipelines = build_all_pipelines()\n",
    "    \n",
    "    scores = {}\n",
    "    cv_times = {}\n",
    "\n",
    "    if not force_run and os.path.isfile(scores_name):\n",
    "        print 'Loading previous scores'\n",
    "        scores = print_time(lambda: joblib.load(scores_name))\n",
    "    \n",
    "    if not force_run and os.path.isfile(cv_times_name):\n",
    "        print 'Loading previous cv_times'\n",
    "        cv_times = print_time(lambda: joblib.load(cv_times_name))\n",
    "\n",
    "    print ''\n",
    "\n",
    "    i = len(scores.keys())\n",
    "    pipelines_count = len(pipelines)\n",
    "\n",
    "    while i < pipelines_count:\n",
    "        name, pipeline = pipelines[i]\n",
    "        print 'Running %d-Fold CV for pipeline %s(%d/%d)' % (cv, name, i + 1, pipelines_count)\n",
    "        model_scores, model_cv_time = measure_time(lambda: cross_val_score(pipeline, X, X.label, cv=cv, n_jobs=n_jobs, verbose=verbose))\n",
    "        scores[name] = model_scores\n",
    "        cv_times[name] = model_cv_time\n",
    "        print 'Done in %fs' % model_cv_time\n",
    "        print 'CV scores mean: %f std: %f' % (np.mean(model_scores), np.std(model_scores))\n",
    "        joblib.dump(scores, scores_name, compress=True)\n",
    "        joblib.dump(cv_times, cv_times_name, compress=True)\n",
    "        print ''\n",
    "\n",
    "        i = i + 1\n",
    "\n",
    "    return pipelines, scores, cv_times"
   ]
  },
  {
   "cell_type": "code",
   "execution_count": null,
   "metadata": {
    "collapsed": false,
    "scrolled": true
   },
   "outputs": [
    {
     "name": "stdout",
     "output_type": "stream",
     "text": [
      "\n",
      "Running 10-Fold CV for pipeline simple_features__dt(1/264)\n"
     ]
    }
   ],
   "source": [
    "pipelines, scores, cv_times = evaluate_and_meassure(train_set, cv=10, n_jobs=6, force_run=True)"
   ]
  },
  {
   "cell_type": "markdown",
   "metadata": {},
   "source": [
    "### TODO: Visualizaciones (usando DataFrame?) de los resultados, tanto puntajes de CV como runtimes"
   ]
  },
  {
   "cell_type": "code",
   "execution_count": null,
   "metadata": {
    "collapsed": true
   },
   "outputs": [],
   "source": []
  },
  {
   "cell_type": "markdown",
   "metadata": {},
   "source": [
    "## Evaluacion del mejor pipeline en el set de test\n",
    "\n",
    "Por último vamos a reportar el desempeño del mejor pipeline elegido con CV, en un set de datos limpio.\n",
    "### TODO: elegir el mejor modelo de todos los que corrimos"
   ]
  },
  {
   "cell_type": "code",
   "execution_count": 16,
   "metadata": {
    "collapsed": false
   },
   "outputs": [],
   "source": [
    "best_model = None\n",
    "best_model_name = None"
   ]
  },
  {
   "cell_type": "code",
   "execution_count": 17,
   "metadata": {
    "collapsed": false
   },
   "outputs": [],
   "source": [
    "def model_evaluation(pipeline, name, X_train, X_test):\n",
    "    print 'Training pipeline %s in the train set' % name\n",
    "    print_time(lambda: pipeline.fit(X_train, X_train.label))\n",
    "\n",
    "    print 'Classifying test set with pipeline %s' % name\n",
    "    pred = print_time(lambda: pipeline.predict(X_test))\n",
    "\n",
    "    print 'Accuracy: %f' % accuracy_score(X_test.label, pred)\n",
    "    print 'Classification report:'\n",
    "    print classification_report(X_test.label, pred, target_names=['ham', 'spam'])\n",
    "    print 'Confusion matrix:'\n",
    "    print pd.crosstab(X_test.label, pred, rownames=['True'], colnames=['Predicted'], margins=True)"
   ]
  },
  {
   "cell_type": "code",
   "execution_count": null,
   "metadata": {
    "collapsed": false,
    "scrolled": true
   },
   "outputs": [],
   "source": [
    "model_evaluation(best_model, best_model_name, train_set, test_set)"
   ]
  },
  {
   "cell_type": "markdown",
   "metadata": {},
   "source": [
    "Guardamos este modelo para utilizarlo posteriormente en un programa separado"
   ]
  },
  {
   "cell_type": "code",
   "execution_count": null,
   "metadata": {
    "collapsed": false
   },
   "outputs": [],
   "source": [
    "print 'Training pipeline %s in the full dataset' % best_model_name\n",
    "_ = print_time(lambda: best_model.fit(train_set.append(test_set), train_set.append(test_set).label))"
   ]
  },
  {
   "cell_type": "code",
   "execution_count": null,
   "metadata": {
    "collapsed": false,
    "scrolled": true
   },
   "outputs": [],
   "source": [
    "save_model('best_model', 'results', best_model)"
   ]
  },
  {
   "cell_type": "markdown",
   "metadata": {},
   "source": [
    "## Conclusiones\n",
    "\n",
    "### TODO: Escribir conclusiones"
   ]
  }
 ],
 "metadata": {
  "anaconda-cloud": {},
  "kernelspec": {
   "display_name": "Python [Root]",
   "language": "python",
   "name": "Python [Root]"
  },
  "language_info": {
   "codemirror_mode": {
    "name": "ipython",
    "version": 2
   },
   "file_extension": ".py",
   "mimetype": "text/x-python",
   "name": "python",
   "nbconvert_exporter": "python",
   "pygments_lexer": "ipython2",
   "version": "2.7.12"
  }
 },
 "nbformat": 4,
 "nbformat_minor": 0
}
