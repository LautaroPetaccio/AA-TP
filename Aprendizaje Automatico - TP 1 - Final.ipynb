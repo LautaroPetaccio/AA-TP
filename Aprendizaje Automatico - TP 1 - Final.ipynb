{
 "cells": [
  {
   "cell_type": "markdown",
   "metadata": {},
   "source": [
    "# Aprendizaje Automatico - TP 1"
   ]
  },
  {
   "cell_type": "code",
   "execution_count": 182,
   "metadata": {
    "collapsed": true
   },
   "outputs": [],
   "source": [
    "%matplotlib inline"
   ]
  },
  {
   "cell_type": "code",
   "execution_count": 183,
   "metadata": {
    "collapsed": true
   },
   "outputs": [],
   "source": [
    "import os"
   ]
  },
  {
   "cell_type": "code",
   "execution_count": 184,
   "metadata": {
    "collapsed": false
   },
   "outputs": [],
   "source": [
    "import numpy as np\n",
    "from scipy.sparse import coo_matrix\n",
    "import pandas as pd\n",
    "import matplotlib.pyplot as plt\n",
    "pd.options.display.float_format = '{:g}'.format\n",
    "plt.rcParams['figure.figsize'] = 14, 5"
   ]
  },
  {
   "cell_type": "code",
   "execution_count": 185,
   "metadata": {
    "collapsed": false
   },
   "outputs": [],
   "source": [
    "from sklearn.feature_extraction.text import TfidfVectorizer\n",
    "from sklearn.feature_selection import SelectKBest, chi2, RFE, SelectFromModel\n",
    "from sklearn.svm import LinearSVC\n",
    "from sklearn.pipeline import Pipeline, FeatureUnion\n",
    "from sklearn.decomposition import TruncatedSVD\n",
    "from sklearn.tree import DecisionTreeClassifier\n",
    "from sklearn.ensemble import RandomForestClassifier\n",
    "from sklearn.grid_search import GridSearchCV\n",
    "from sklearn.cross_validation import cross_val_score"
   ]
  },
  {
   "cell_type": "code",
   "execution_count": 186,
   "metadata": {
    "collapsed": false,
    "scrolled": true
   },
   "outputs": [],
   "source": [
    "import features as cf\n",
    "from util import *"
   ]
  },
  {
   "cell_type": "markdown",
   "metadata": {},
   "source": [
    "Cargamos el dataset, lo convertimos a un pandas DataFrame y separamos en set de entrenamiento y de test"
   ]
  },
  {
   "cell_type": "code",
   "execution_count": 6,
   "metadata": {
    "collapsed": false,
    "scrolled": true
   },
   "outputs": [
    {
     "name": "stdout",
     "output_type": "stream",
     "text": [
      "Loading Train Set\n",
      "Done in 1.885000s\n",
      "\n",
      "Loading Test Set\n",
      "Done in 0.482000s\n",
      "\n"
     ]
    }
   ],
   "source": [
    "# Por reproducibilidad, y para no perder tiempo armando el DataFrame cada vez, lo bajamos a\n",
    "# un archivo la priemra vez que lo corrimos, ya seprando 20% para reportar como valor final\n",
    "# de nuestro modelo\n",
    "train_set_name = 'dataset/train_set.pkl'\n",
    "test_set_name = 'dataset/test_set.pkl'\n",
    "train_set = None\n",
    "test_set = None\n",
    "\n",
    "if os.path.isfile(train_set_name) and os.path.isfile(test_set_name):\n",
    "    print 'Loading Train Set'    \n",
    "    train_set = print_time(lambda: joblib.load(train_set_name))\n",
    "    print ''\n",
    "        \n",
    "    print 'Loading Test Set'\n",
    "    test_set = print_time(lambda: joblib.load(test_set_name))\n",
    "    print ''\n",
    "else:\n",
    "    train_set, test_set = load_raw_data()\n",
    "    print ''\n",
    "    \n",
    "    print 'Saving Train Set'\n",
    "    print_time(lambda: joblib.dump(train_set, train_set_name, compress=True))\n",
    "    print ''\n",
    "    \n",
    "    print 'Saving Test Set'\n",
    "    print_time(lambda: joblib.dump(test_set, test_set_name, compress=True))\n",
    "    print ''"
   ]
  },
  {
   "cell_type": "code",
   "execution_count": 7,
   "metadata": {
    "collapsed": false
   },
   "outputs": [
    {
     "name": "stdout",
     "output_type": "stream",
     "text": [
      "Train Set: 72000 samples - ham: 35997(0.50%) spam: 36003(0.50%)\n",
      "Test Set:  18000 samples - ham: 9003(0.50%) spam: 8997(0.50%)\n"
     ]
    }
   ],
   "source": [
    "print_sets_summarys(train_set, test_set)"
   ]
  },
  {
   "cell_type": "markdown",
   "metadata": {},
   "source": [
    "## Exploración de datos\n",
    "\n",
    "Vamos a explorar un poco los datos. Primero inspeccionamos los primeros mails del set de entrenamiento, para ver que pinta tienen."
   ]
  },
  {
   "cell_type": "code",
   "execution_count": 8,
   "metadata": {
    "collapsed": false
   },
   "outputs": [
    {
     "data": {
      "text/html": [
       "<div>\n",
       "<table border=\"1\" class=\"dataframe\">\n",
       "  <thead>\n",
       "    <tr style=\"text-align: right;\">\n",
       "      <th></th>\n",
       "      <th>content_types</th>\n",
       "      <th>subject</th>\n",
       "      <th>body</th>\n",
       "      <th>label</th>\n",
       "    </tr>\n",
       "  </thead>\n",
       "  <tbody>\n",
       "    <tr>\n",
       "      <th>0</th>\n",
       "      <td>[text/html]</td>\n",
       "      <td>penny st0ck booms on continued demand</td>\n",
       "      <td>\\r\\n\\r\\n\\r\\n\\r\\n\\r\\npenny st0ck booms on conti...</td>\n",
       "      <td>spam</td>\n",
       "    </tr>\n",
       "    <tr>\n",
       "      <th>1</th>\n",
       "      <td>[text/plain]</td>\n",
       "      <td>RE: BNP Paribas Master Netting Agreement</td>\n",
       "      <td>The receivables deal has been terminated. Feel...</td>\n",
       "      <td>ham</td>\n",
       "    </tr>\n",
       "    <tr>\n",
       "      <th>2</th>\n",
       "      <td>[text/plain]</td>\n",
       "      <td>I NEED YOU TO ACT AS THE NEXT OF KIN TO LATE M...</td>\n",
       "      <td>\\n\\n \\n \\nATTN:THE DIRECTOR /CEO,\\n\\nAN URGENT...</td>\n",
       "      <td>spam</td>\n",
       "    </tr>\n",
       "    <tr>\n",
       "      <th>3</th>\n",
       "      <td>[text/plain]</td>\n",
       "      <td>WTI-Brent</td>\n",
       "      <td>Jeff -\\nDon't know if WTI-Brent is on the new ...</td>\n",
       "      <td>ham</td>\n",
       "    </tr>\n",
       "    <tr>\n",
       "      <th>4</th>\n",
       "      <td>[text/plain]</td>\n",
       "      <td>Mrs maureen clark</td>\n",
       "      <td>\\nDear Beloved in Christ,\\n\\nIt is by the grac...</td>\n",
       "      <td>spam</td>\n",
       "    </tr>\n",
       "  </tbody>\n",
       "</table>\n",
       "</div>"
      ],
      "text/plain": [
       "  content_types                                            subject  \\\n",
       "0   [text/html]              penny st0ck booms on continued demand   \n",
       "1  [text/plain]           RE: BNP Paribas Master Netting Agreement   \n",
       "2  [text/plain]  I NEED YOU TO ACT AS THE NEXT OF KIN TO LATE M...   \n",
       "3  [text/plain]                                          WTI-Brent   \n",
       "4  [text/plain]                                  Mrs maureen clark   \n",
       "\n",
       "                                                body label  \n",
       "0  \\r\\n\\r\\n\\r\\n\\r\\n\\r\\npenny st0ck booms on conti...  spam  \n",
       "1  The receivables deal has been terminated. Feel...   ham  \n",
       "2  \\n\\n \\n \\nATTN:THE DIRECTOR /CEO,\\n\\nAN URGENT...  spam  \n",
       "3  Jeff -\\nDon't know if WTI-Brent is on the new ...   ham  \n",
       "4  \\nDear Beloved in Christ,\\n\\nIt is by the grac...  spam  "
      ]
     },
     "execution_count": 8,
     "metadata": {},
     "output_type": "execute_result"
    }
   ],
   "source": [
    "train_set.head()"
   ]
  },
  {
   "cell_type": "markdown",
   "metadata": {},
   "source": [
    "Ahora, generaremos la matriz de atributos (unigramas y bigramas) TF-IDF sobre el cuerpo de los mails, y usando tres técnicas de reducción de dimensionalidad, visualizaremos los 2 atributos más importantes. Las técnicas son:\n",
    "    - Elegir los 2 atributos que son mas probables(segun un test chi2) que sean dependientes de la etiqueta\n",
    "    - Eliminar recursivamente los atributos que menor peso tengan asignados por un clasificador SVM lineal\n",
    "    - Entrenar un clasificador SVM lineal con penalizacion l1(fuerza esparcidad, gran cantidad de pesos en 0), y elegir los 2 atributos que mas importancia tengan \n",
    "Para visualizar, mostramos un gráfico con el valor de cada uno de los 2 atributos en los ejes, y la clase como color. Tambien mostramos un histograma por cada atributo, agrupando por la clase."
   ]
  },
  {
   "cell_type": "code",
   "execution_count": 221,
   "metadata": {
    "collapsed": false
   },
   "outputs": [],
   "source": [
    "def plot_2_best_features(feature_selector, tokens, token_names, labels):\n",
    "    if feature_selector == 'k_best':\n",
    "        transformer = SelectKBest(chi2, k=2)\n",
    "        selected_tokens = transformer.fit_transform(tokens, labels)\n",
    "        feature1_name, feature2_name = [token_names[i] for i in transformer.get_support(indices=True)]\n",
    "    elif feature_selector == 'rfe':\n",
    "        transformer = RFE(LinearSVC(), n_features_to_select=2)\n",
    "        selected_tokens = transformer.fit_transform(tokens, labels)\n",
    "        feature1_name, feature2_name = [token_names[i] for i in transformer.get_support(indices=True)]\n",
    "    elif feature_selector == 'l1':\n",
    "        svc = LinearSVC(penalty=\"l1\", dual=False).fit(tokens, labels)\n",
    "        ind = np.argpartition(svc.coef_[0], -2)[-2:]\n",
    "        ind = ind[np.argsort(svc.coef_[0, ind])][::-1]\n",
    "        selected_tokens = tokens[:, ind]\n",
    "        feature1_name, feature2_name = [token_names[i] for i in ind]\n",
    "    else:\n",
    "        raise ValueError('Invalid feature_selector. Expected None, \\'k_best\\', \\'pca\\' or \\'l1\\'')\n",
    "\n",
    "    print 'Visualizing using feature selector %s' % feature_selector\n",
    "    title = 'Features selected using %s' % feature_selector\n",
    "    \n",
    "    df = pd.DataFrame(selected_tokens.todense(), columns=[feature1_name, feature2_name])\n",
    "    df['label'] = labels\n",
    "    \n",
    "    df.plot(kind='scatter',\n",
    "            x=feature1_name,\n",
    "            y=feature2_name,\n",
    "            figsize=(10, 5),\n",
    "            title=title,\n",
    "            c=['blue' if label == 'ham' else 'red' for label in labels])\n",
    "    \n",
    "    df = df.sample(1000)\n",
    "    \n",
    "    fig, axs = plt.subplots(ncols=2)\n",
    "    title = 'Feature \\'%s\\' frequency by class in 1000 random samples'\n",
    "    \n",
    "    df.groupby('label')[feature1_name].plot(kind='hist',\n",
    "                                            ax=axs[0],\n",
    "                                            title=title % feature1_name,\n",
    "                                            legend=True, alpha=0.4)\n",
    "    df.groupby('label')[feature2_name].plot(kind='hist',\n",
    "                                            ax=axs[1],\n",
    "                                            title=title % feature2_name,\n",
    "                                            legend=True, alpha=0.4)\n",
    "    fig.show()\n",
    "    \n",
    "\n",
    "def show_selectors_bests_features(mails):\n",
    "    tfidf = TfidfVectorizer(stop_words='english',\n",
    "                                    ngram_range=(1, 2),\n",
    "                                    strip_accents='ascii',\n",
    "                                    sublinear_tf=True)\n",
    "    mail_body_tokens = tfidf.fit_transform(mails.body)\n",
    "    token_names = tfidf.get_feature_names()\n",
    "    plot_2_best_features('k_best', mail_body_tokens, token_names, mails.label)\n",
    "    plot_2_best_features('rfe', mail_body_tokens, token_names, mails.label)\n",
    "    plot_2_best_features('l1', mail_body_tokens, token_names, mails.label)"
   ]
  },
  {
   "cell_type": "code",
   "execution_count": 222,
   "metadata": {
    "collapsed": false
   },
   "outputs": [
    {
     "name": "stdout",
     "output_type": "stream",
     "text": [
      "\n",
      "\n"
     ]
    },
    {
     "data": {
      "image/png": "[encoded data removed]",
      "text/plain": [
       "<matplotlib.figure.Figure at 0x30800048>"
      ]
     },
     "metadata": {},
     "output_type": "display_data"
    },
    {
     "data": {
      "image/png": "[encoded data removed]",
      "text/plain": [
       "<matplotlib.figure.Figure at 0x383875c0>"
      ]
     },
     "metadata": {},
     "output_type": "display_data"
    },
    {
     "data": {
      "image/png": "[encoded data removed]",
      "text/plain": [
       "<matplotlib.figure.Figure at 0xb2726f60>"
      ]
     },
     "metadata": {},
     "output_type": "display_data"
    },
    {
     "data": {
      "image/png": "[encoded data removed]",
      "text/plain": [
       "<matplotlib.figure.Figure at 0x38387e80>"
      ]
     },
     "metadata": {},
     "output_type": "display_data"
    }
   ],
   "source": [
    "show_selectors_bests_features(train_set)"
   ]
  },
  {
   "cell_type": "markdown",
   "metadata": {},
   "source": [
    "## Atributos\n",
    "Definimos los siguientes atributos a ser extraidos de cada mail:\n",
    "1. Atributos simples:\n",
    "    - Longitud del asunto\n",
    "    - Cantidad de espacios en el asunto dividido por la longitud del asunto\n",
    "    - Cantidad de caracteres mayusculas en el asunto dividido por la longitud del asunto\n",
    "    - Longitud del cuerpo\n",
    "    - Cantidad de espacios en el cuerpo dividido por la longitud del cuerpo\n",
    "    - Cantidad de caracteres mayusculas en el cuerpo dividido por la longitud del cuerpo\n",
    "    - Cantidad de oraciones del cuerpo\n",
    "    - Tiene el mail contenido HTML?\n",
    "    - Tiene el mail imágenes?\n",
    "2. Atributos de vectorizacion del asunto: cantidad de apariciones por token dividido por la cantidad de documentos en los que aparece(TF-IDF)\n",
    "3. Atributos de vectorizacion del cuerpo: cantidad de apariciones por token dividido por la cantidad de documentos en los que aparece(TF-IDF)"
   ]
  },
  {
   "cell_type": "code",
   "execution_count": 10,
   "metadata": {
    "collapsed": false
   },
   "outputs": [],
   "source": [
    "def simple_extractors():\n",
    "    return cf.SimpleFeaturesExtractor([('subject_length', cf.subject_length), \n",
    "        ('subject_spaces', cf.subject_spaces), \n",
    "        ('subject_caps', cf.subject_caps),\n",
    "        ('body_length', cf.body_length), \n",
    "        ('body_spaces', cf.body_spaces), \n",
    "        ('body_caps', cf.body_caps), \n",
    "        ('body_sentences', cf.body_sentences),\n",
    "        ('has_html', cf.has_html), \n",
    "        ('has_image', cf.has_image)\n",
    "      ])\n",
    "def vectorizer_extractor(feature_selector):\n",
    "    if feature_selector is None:\n",
    "        return [('vectorizer', TfidfVectorizer(stop_words='english', \n",
    "                           ngram_range=(1, 2),\n",
    "                           strip_accents='ascii',\n",
    "                           sublinear_tf=True,\n",
    "                           min_df=0.001,\n",
    "                           max_df=0.7))]\n",
    "    elif feature_selector == 'k_best':\n",
    "        return [('vectorizer', TfidfVectorizer(stop_words='english', ngram_range=(1, 2),\n",
    "                           strip_accents='ascii',\n",
    "                           sublinear_tf=True,\n",
    "                            min_df=0.0001,\n",
    "                           max_df=0.95\n",
    "                ('k_best', SelectKBest(chi2, k=2))]\n",
    "    elif feature_selector == 'pca':\n",
    "        return [('vectorizer', TfidfVectorizer(stop_words='english', \n",
    "                           ngram_range=(1, 2),\n",
    "                           strip_accents='ascii',\n",
    "                           sublinear_tf=True,\n",
    "                           min_df=0.0001,\n",
    "                           max_df=0.95)),\n",
    "                ('pca', TruncatedSVD(n_components=50))]    \n",
    "    elif feature_selector == 'l1':\n",
    "        return [('vectorizer', TfidfVectorizer(stop_words='english', \n",
    "                           ngram_range=(1, 2),\n",
    "                           strip_accents='ascii',\n",
    "                           sublinear_tf=True,\n",
    "                           min_df=0.0001,\n",
    "                           max_df=0.95)),\n",
    "                ('svd', LinearSVC(C=1.0))]\n",
    "    else\n",
    "        raise ValueError('Invalid feature_selector. Expected None, \\'k_best\\', \\'pca\\' or \\'lasso\\')\n",
    "        "
   ]
  },
  {
   "cell_type": "markdown",
   "metadata": {
    "collapsed": true
   },
   "source": [
    "Sobre los atributos de vectorizacion, damos la posiblidad de aplicar LSA, agregando PCA(tecnicamente, TruncatedSVD, pero a fines practicos es lo mismo) al pipeline correspondiente"
   ]
  },
  {
   "cell_type": "code",
   "execution_count": 10,
   "metadata": {
    "collapsed": false
   },
   "outputs": [],
   "source": [
    "def features_extractors(simple_features=True, subject_vectorizer=True, subject_lsa=True, body_vectorizer=True, body_lsa=True):\n",
    "    extractors = []\n",
    "    \n",
    "    if simple_features:\n",
    "        # Extractor de atributos simples\n",
    "        extractors = [('simple_features', simple_extractors())]\n",
    "    \n",
    "    if subject_vectorizer:\n",
    "        # Pipeline para extraer atributos de vectorizacion del asunto del mail\n",
    "        extractors = extractors + \\\n",
    "                [('subject', Pipeline([\n",
    "                    ('selector', ColumnSelectorExtractor('subject'))] + vectorizer_extractor(lsa=subject_lsa, lsa_components=20)\n",
    "                ))]\n",
    "\n",
    "    if body_vectorizer:\n",
    "        # Pipeline para extraer atributos de vectorizacion del cuerpo del mail\n",
    "        extractors = extractors + \\\n",
    "                [('body', Pipeline([\n",
    "                    ('selector', ColumnSelectorExtractor('body'))] + vectorizer_extractor(lsa=body_lsa, lsa_components=50)\n",
    "                ))]\n",
    "\n",
    "    # Use FeatureUnion to combine the features\n",
    "    return FeatureUnion(extractors)\n",
    "\n",
    "def features_extractors_name(simple_features=True, subject_vectorizer=True, subject_lsa=True, body_vectorizer=True, body_lsa=True):\n",
    "    names = []\n",
    "    \n",
    "    if simple_features:\n",
    "        names = ['simple']\n",
    "    \n",
    "    if subject_vectorizer:\n",
    "        if subject_lsa:\n",
    "            names.append('subject_lsa')\n",
    "        else:            \n",
    "            names.append('subject_vectorizer')\n",
    "            \n",
    "    if body_vectorizer:\n",
    "        if body_lsa:\n",
    "            names.append('body_lsa')\n",
    "        else:\n",
    "            names.append('body_vectorizer')\n",
    "            \n",
    "    return '_'.join(names)"
   ]
  },
  {
   "cell_type": "markdown",
   "metadata": {},
   "source": [
    "### Evaluación de modelos\n",
    "\n",
    "Probamos distintas configuracions de atributos y clasificadores, obteniendo para cada uno sus puntajes de 10-fold CV"
   ]
  },
  {
   "cell_type": "code",
   "execution_count": null,
   "metadata": {
    "collapsed": false,
    "scrolled": false
   },
   "outputs": [],
   "source": [
    "parameters_grid = {\n",
    "    'tree_classifier__max_features': ['sqrt', 'log2', 0.5, None],\n",
    "    'tree_classifier__max_depth': [3, 5, 10, None],\n",
    "    'tree_classifier__min_samples_split': [1, 3, 5, 10],\n",
    "    'tree_classifier__min_samples_leaf': [1, 3, 5, 10]\n",
    "}\n",
    "\n",
    "dt = GridSearchCV(Pipeline([\n",
    "  ('features_extractor', features_extractors(False, False, False)),\n",
    "  ('tree_classifier', DecisionTreeClassifier())\n",
    "]), parameters_grid, n_jobs=4, verbose=2)"
   ]
  },
  {
   "cell_type": "markdown",
   "metadata": {},
   "source": [
    "#### Decision Tree"
   ]
  },
  {
   "cell_type": "code",
   "execution_count": 34,
   "metadata": {
    "collapsed": false,
    "scrolled": true
   },
   "outputs": [
    {
     "name": "stderr",
     "output_type": "stream",
     "text": [
      "[Parallel(n_jobs=3)]: Done   3 out of   3 | elapsed:   48.5s finished\n"
     ]
    },
    {
     "data": {
      "text/plain": [
       "array([ 0.93483333,  0.93383333,  0.92895833])"
      ]
     },
     "execution_count": 34,
     "metadata": {},
     "output_type": "execute_result"
    }
   ],
   "source": [
    "cross_val_score(Pipeline([\n",
    "  ('features_extractor', features_extractors(False, False, False)),\n",
    "  ('tree_classifier', DecisionTreeClassifier(max_features='sqrt', max_depth=None))\n",
    "]), train_set, train_set['label'], n_jobs=3, verbose=2)"
   ]
  },
  {
   "cell_type": "code",
   "execution_count": 13,
   "metadata": {
    "collapsed": false,
    "scrolled": true
   },
   "outputs": [
    {
     "name": "stderr",
     "output_type": "stream",
     "text": [
      "[Parallel(n_jobs=3)]: Done   3 out of   3 | elapsed:   48.6s finished\n"
     ]
    },
    {
     "data": {
      "text/plain": [
       "array([ 0.929     ,  0.92966667,  0.93204167])"
      ]
     },
     "execution_count": 13,
     "metadata": {},
     "output_type": "execute_result"
    }
   ],
   "source": [
    "cross_val_score(Pipeline([\n",
    "  ('features_extractor', features_extractors(False, False, False)),\n",
    "  ('tree_classifier', DecisionTreeClassifier(max_features='log2', max_depth=None))\n",
    "]), train_set, train_set['label'], n_jobs=3, verbose=2)"
   ]
  },
  {
   "cell_type": "code",
   "execution_count": 14,
   "metadata": {
    "collapsed": false,
    "scrolled": true
   },
   "outputs": [
    {
     "name": "stderr",
     "output_type": "stream",
     "text": [
      "[Parallel(n_jobs=3)]: Done   3 out of   3 | elapsed:   49.3s finished\n"
     ]
    },
    {
     "data": {
      "text/plain": [
       "array([ 0.93270833,  0.93745833,  0.936375  ])"
      ]
     },
     "execution_count": 14,
     "metadata": {},
     "output_type": "execute_result"
    }
   ],
   "source": [
    "cross_val_score(Pipeline([\n",
    "  ('features_extractor', features_extractors(False, False, False)),\n",
    "  ('tree_classifier', DecisionTreeClassifier(max_features=0.5, max_depth=None))\n",
    "]), train_set, train_set['label'], n_jobs=3, verbose=2)"
   ]
  },
  {
   "cell_type": "code",
   "execution_count": 15,
   "metadata": {
    "collapsed": false,
    "scrolled": true
   },
   "outputs": [
    {
     "name": "stderr",
     "output_type": "stream",
     "text": [
      "[Parallel(n_jobs=3)]: Done   3 out of   3 | elapsed:   50.9s finished\n"
     ]
    },
    {
     "data": {
      "text/plain": [
       "array([ 0.93608333,  0.93345833,  0.93379167])"
      ]
     },
     "execution_count": 15,
     "metadata": {},
     "output_type": "execute_result"
    }
   ],
   "source": [
    "cross_val_score(Pipeline([\n",
    "  ('features_extractor', features_extractors(False, False, False)),\n",
    "  ('tree_classifier', DecisionTreeClassifier(max_features=None, max_depth=None))\n",
    "]), train_set, train_set['label'], n_jobs=3, verbose=2)"
   ]
  },
  {
   "cell_type": "code",
   "execution_count": 16,
   "metadata": {
    "collapsed": false,
    "scrolled": true
   },
   "outputs": [
    {
     "name": "stderr",
     "output_type": "stream",
     "text": [
      "[Parallel(n_jobs=3)]: Done   3 out of   3 | elapsed:   51.0s finished\n"
     ]
    },
    {
     "data": {
      "text/plain": [
       "array([ 0.93825   ,  0.93570833,  0.93941667])"
      ]
     },
     "execution_count": 16,
     "metadata": {},
     "output_type": "execute_result"
    }
   ],
   "source": [
    "cross_val_score(Pipeline([\n",
    "  ('features_extractor', features_extractors(False, False, False)),\n",
    "  ('tree_classifier', DecisionTreeClassifier(max_features=None, max_depth=10))\n",
    "]), train_set, train_set['label'], n_jobs=3, verbose=2)"
   ]
  },
  {
   "cell_type": "markdown",
   "metadata": {},
   "source": [
    "#### Random Forests"
   ]
  },
  {
   "cell_type": "code",
   "execution_count": 39,
   "metadata": {
    "collapsed": false
   },
   "outputs": [
    {
     "name": "stderr",
     "output_type": "stream",
     "text": [
      "[Parallel(n_jobs=3)]: Done   3 out of   3 | elapsed:   51.1s finished\n"
     ]
    },
    {
     "data": {
      "text/plain": [
       "array([ 0.96041667,  0.95933333,  0.9605    ])"
      ]
     },
     "execution_count": 39,
     "metadata": {},
     "output_type": "execute_result"
    }
   ],
   "source": [
    "cross_val_score(Pipeline([\n",
    "  ('features_extractor', features_extractors(False, False, False, True, False)),\n",
    "  ('tree_classifier', RandomForestClassifier())\n",
    "]), train_set, train_set['label'], n_jobs=3, verbose=2)"
   ]
  },
  {
   "cell_type": "code",
   "execution_count": 36,
   "metadata": {
    "collapsed": false,
    "scrolled": true
   },
   "outputs": [
    {
     "name": "stderr",
     "output_type": "stream",
     "text": [
      "[Parallel(n_jobs=3)]: Done   3 out of   3 | elapsed:   50.9s finished\n"
     ]
    },
    {
     "data": {
      "text/plain": [
       "array([ 0.958125  ,  0.95791667,  0.95504167])"
      ]
     },
     "execution_count": 36,
     "metadata": {},
     "output_type": "execute_result"
    }
   ],
   "source": [
    "cross_val_score(Pipeline([\n",
    "  ('features_extractor', features_extractors(False, False, False, True, True)),\n",
    "  ('tree_classifier', RandomForestClassifier())\n",
    "]), train_set, train_set['label'], n_jobs=3, verbose=2)"
   ]
  },
  {
   "cell_type": "code",
   "execution_count": 40,
   "metadata": {
    "collapsed": false
   },
   "outputs": [
    {
     "name": "stderr",
     "output_type": "stream",
     "text": [
      "[Parallel(n_jobs=3)]: Done   3 out of   3 | elapsed:  1.6min finished\n"
     ]
    },
    {
     "data": {
      "text/plain": [
       "array([ 0.98529167,  0.98491667,  0.984625  ])"
      ]
     },
     "execution_count": 40,
     "metadata": {},
     "output_type": "execute_result"
    }
   ],
   "source": [
    "cross_val_score(Pipeline([\n",
    "  ('features_extractor', features_extractors(True, False, False, True, False)),\n",
    "  ('tree_classifier', RandomForestClassifier())\n",
    "]), train_set, train_set['label'], n_jobs=3, verbose=2)"
   ]
  },
  {
   "cell_type": "code",
   "execution_count": 23,
   "metadata": {
    "collapsed": false
   },
   "outputs": [
    {
     "name": "stderr",
     "output_type": "stream",
     "text": [
      "[Parallel(n_jobs=3)]: Done   3 out of   3 | elapsed:  1.5min finished\n"
     ]
    },
    {
     "data": {
      "text/plain": [
       "array([ 0.98258333,  0.98241667,  0.98216667])"
      ]
     },
     "execution_count": 23,
     "metadata": {},
     "output_type": "execute_result"
    }
   ],
   "source": [
    "cross_val_score(Pipeline([\n",
    "  ('features_extractor', features_extractors(True, False, False, True, True)),\n",
    "  ('tree_classifier', RandomForestClassifier())\n",
    "]), train_set, train_set['label'], n_jobs=3, verbose=2)"
   ]
  },
  {
   "cell_type": "code",
   "execution_count": 35,
   "metadata": {
    "collapsed": false
   },
   "outputs": [
    {
     "name": "stderr",
     "output_type": "stream",
     "text": [
      "[Parallel(n_jobs=3)]: Done   3 out of   3 | elapsed:  1.6min finished\n"
     ]
    },
    {
     "data": {
      "text/plain": [
       "array([ 0.98266667,  0.98304167,  0.98229167])"
      ]
     },
     "execution_count": 35,
     "metadata": {},
     "output_type": "execute_result"
    }
   ],
   "source": [
    "cross_val_score(Pipeline([\n",
    "  ('features_extractor', features_extractors(True, True, True, True, True)),\n",
    "  ('tree_classifier', RandomForestClassifier())\n",
    "]), train_set, train_set['label'], n_jobs=3, verbose=2)"
   ]
  },
  {
   "cell_type": "code",
   "execution_count": 41,
   "metadata": {
    "collapsed": false
   },
   "outputs": [
    {
     "name": "stderr",
     "output_type": "stream",
     "text": [
      "[Parallel(n_jobs=3)]: Done   3 out of   3 | elapsed:  1.6min finished\n"
     ]
    },
    {
     "data": {
      "text/plain": [
       "array([ 0.98533333,  0.98570833,  0.98479167])"
      ]
     },
     "execution_count": 41,
     "metadata": {},
     "output_type": "execute_result"
    }
   ],
   "source": [
    "cross_val_score(Pipeline([\n",
    "  ('features_extractor', features_extractors(True, True, False, True, False)),\n",
    "  ('tree_classifier', RandomForestClassifier())\n",
    "]), train_set, train_set['label'], n_jobs=3, verbose=2)"
   ]
  },
  {
   "cell_type": "code",
   "execution_count": 42,
   "metadata": {
    "collapsed": false
   },
   "outputs": [
    {
     "name": "stderr",
     "output_type": "stream",
     "text": [
      "[Parallel(n_jobs=3)]: Done   3 out of   3 | elapsed:  1.6min finished\n"
     ]
    },
    {
     "data": {
      "text/plain": [
       "array([ 0.97858333,  0.97908333,  0.97925   ])"
      ]
     },
     "execution_count": 42,
     "metadata": {},
     "output_type": "execute_result"
    }
   ],
   "source": [
    "cross_val_score(Pipeline([\n",
    "  ('features_extractor', features_extractors(True, True, True, True, False)),\n",
    "  ('tree_classifier', RandomForestClassifier())\n",
    "]), train_set, train_set['label'], n_jobs=3, verbose=2)"
   ]
  },
  {
   "cell_type": "code",
   "execution_count": 43,
   "metadata": {
    "collapsed": false
   },
   "outputs": [
    {
     "name": "stderr",
     "output_type": "stream",
     "text": [
      "[Parallel(n_jobs=3)]: Done   3 out of   3 | elapsed:  1.6min finished\n"
     ]
    },
    {
     "data": {
      "text/plain": [
       "array([ 0.981875  ,  0.98320833,  0.98091667])"
      ]
     },
     "execution_count": 43,
     "metadata": {},
     "output_type": "execute_result"
    }
   ],
   "source": [
    "cross_val_score(Pipeline([\n",
    "  ('features_extractor', features_extractors(True, True, False, True, True)),\n",
    "  ('tree_classifier', RandomForestClassifier())\n",
    "]), train_set, train_set['label'], n_jobs=3, verbose=2)"
   ]
  },
  {
   "cell_type": "code",
   "execution_count": null,
   "metadata": {
    "collapsed": false
   },
   "outputs": [],
   "source": [
    "cross_val_score(Pipeline([\n",
    "  ('features_extractor', features_extractors(False, True, False, False, False)),\n",
    "  ('tree_classifier', RandomForestClassifier())\n",
    "]), train_set, train_set['label'], n_jobs=3, verbose=2)"
   ]
  },
  {
   "cell_type": "code",
   "execution_count": null,
   "metadata": {
    "collapsed": false
   },
   "outputs": [],
   "source": [
    "cross_val_score(Pipeline([\n",
    "  ('features_extractor', features_extractors(False, True, True, False, False)),\n",
    "  ('tree_classifier', RandomForestClassifier())\n",
    "]), train_set, train_set['label'], n_jobs=3, verbose=2)"
   ]
  },
  {
   "cell_type": "code",
   "execution_count": null,
   "metadata": {
    "collapsed": false
   },
   "outputs": [],
   "source": [
    "cross_val_score(Pipeline([\n",
    "  ('features_extractor', features_extractors(True, True, False, False, False)),\n",
    "  ('tree_classifier', RandomForestClassifier())\n",
    "]), train_set, train_set['label'], n_jobs=3, verbose=2)"
   ]
  },
  {
   "cell_type": "code",
   "execution_count": 37,
   "metadata": {
    "collapsed": false
   },
   "outputs": [
    {
     "name": "stderr",
     "output_type": "stream",
     "text": [
      "[Parallel(n_jobs=3)]: Done   3 out of   3 | elapsed:   50.2s finished\n"
     ]
    },
    {
     "data": {
      "text/plain": [
       "array([ 0.94495833,  0.94866667,  0.9465    ])"
      ]
     },
     "execution_count": 37,
     "metadata": {},
     "output_type": "execute_result"
    }
   ],
   "source": [
    "cross_val_score(Pipeline([\n",
    "  ('features_extractor', features_extractors(True, True, True, False, False)),\n",
    "  ('tree_classifier', RandomForestClassifier())\n",
    "]), train_set, train_set['label'], n_jobs=3, verbose=2)"
   ]
  },
  {
   "cell_type": "code",
   "execution_count": null,
   "metadata": {
    "collapsed": true
   },
   "outputs": [],
   "source": []
  },
  {
   "cell_type": "code",
   "execution_count": null,
   "metadata": {
    "collapsed": false
   },
   "outputs": [],
   "source": [
    "cross_val_score(Pipeline([\n",
    "  ('features_extractor', features_extractors(True, True, True, True, True)),\n",
    "  ('tree_classifier', RandomForestClassifier())\n",
    "]), train_set, train_set['label'], n_jobs=2, verbose=2)"
   ]
  },
  {
   "cell_type": "code",
   "execution_count": null,
   "metadata": {
    "collapsed": true
   },
   "outputs": [],
   "source": []
  }
 ],
 "metadata": {
  "anaconda-cloud": {},
  "kernelspec": {
   "display_name": "Python [Root]",
   "language": "python",
   "name": "Python [Root]"
  },
  "language_info": {
   "codemirror_mode": {
    "name": "ipython",
    "version": 2
   },
   "file_extension": ".py",
   "mimetype": "text/x-python",
   "name": "python",
   "nbconvert_exporter": "python",
   "pygments_lexer": "ipython2",
   "version": "2.7.12"
  }
 },
 "nbformat": 4,
 "nbformat_minor": 0
}
